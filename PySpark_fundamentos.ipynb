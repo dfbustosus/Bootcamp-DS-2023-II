{
 "cells": [
  {
   "cell_type": "code",
   "execution_count": 1,
   "metadata": {},
   "outputs": [],
   "source": [
    "import os \n",
    "os.environ['SPARK_HOME']=r'C:/spark/'\n",
    "os.environ['PYSPARK_DRIVER_PYTHON']='jupyter'\n",
    "os.environ['PYSPARK_DRIVER_PYTHON_OPTS']='lab'\n",
    "os.environ['PYSPARK_PYTHON']='python'\n",
    "from pyspark.sql import SparkSession\n",
    "# Crear una instancia de  SparkSession\n",
    "spark = SparkSession.builder.getOrCreate()\n",
    "# Crear un RDD[String], que represente el input\n",
    "#cada record pertenece a un RDD (Resilient Distributed Dataset) element\n",
    "records = spark.sparkContext.textFile(\"prueba.txt\")"
   ]
  },
  {
   "cell_type": "code",
   "execution_count": 2,
   "metadata": {},
   "outputs": [
    {
     "data": {
      "text/plain": [
       "prueba.txt MapPartitionsRDD[1] at textFile at NativeMethodAccessorImpl.java:0"
      ]
     },
     "execution_count": 2,
     "metadata": {},
     "output_type": "execute_result"
    }
   ],
   "source": [
    "records"
   ]
  },
  {
   "cell_type": "code",
   "execution_count": 3,
   "metadata": {},
   "outputs": [],
   "source": [
    "# Convertir cada elemento del RDD a lowercase\n",
    "# x denota un elemento unico del RDD\n",
    "# records: source RDD[String]\n",
    "records_lowercase = records.map(lambda x: x.lower())"
   ]
  },
  {
   "cell_type": "code",
   "execution_count": 4,
   "metadata": {},
   "outputs": [],
   "source": [
    "# Separar cada record en una lista de palabras \n",
    "# records_lowercase: source RDD[String]\n",
    "# words: target RDD[String]\n",
    "words = records_lowercase.flatMap(lambda x: x.split(\",\"))"
   ]
  },
  {
   "cell_type": "code",
   "execution_count": 5,
   "metadata": {},
   "outputs": [
    {
     "data": {
      "text/plain": [
       "PythonRDD[2] at RDD at PythonRDD.scala:53"
      ]
     },
     "execution_count": 5,
     "metadata": {},
     "output_type": "execute_result"
    }
   ],
   "source": [
    "words"
   ]
  },
  {
   "cell_type": "code",
   "execution_count": 6,
   "metadata": {},
   "outputs": [
    {
     "data": {
      "text/plain": [
       "PythonRDD[3] at RDD at PythonRDD.scala:53"
      ]
     },
     "execution_count": 6,
     "metadata": {},
     "output_type": "execute_result"
    }
   ],
   "source": [
    "# Mantener las palabras con longitud mayor a 2\n",
    "# x denota las palabras\n",
    "# words: source RDD[String]\n",
    "# filtered: target RDD[String]\n",
    "filtered = words.filter(lambda x: len(x) > 2)\n",
    "filtered"
   ]
  },
  {
   "cell_type": "code",
   "execution_count": 8,
   "metadata": {},
   "outputs": [
    {
     "data": {
      "text/plain": [
       "['hola',\n",
       " ' como',\n",
       " ' estas',\n",
       " ' hoy',\n",
       " 'hola',\n",
       " ' como',\n",
       " ' te',\n",
       " ' va',\n",
       " ' en',\n",
       " ' tu',\n",
       " ' dia']"
      ]
     },
     "execution_count": 8,
     "metadata": {},
     "output_type": "execute_result"
    }
   ],
   "source": [
    "# Mostrar resultadis\n",
    "filtered.collect() # filtro de mas de 2 caracteres/espacios"
   ]
  },
  {
   "cell_type": "code",
   "execution_count": 9,
   "metadata": {},
   "outputs": [
    {
     "data": {
      "text/plain": [
       "['hola',\n",
       " ' como',\n",
       " ' estas',\n",
       " ' hoy',\n",
       " 'hola',\n",
       " ' como',\n",
       " ' te',\n",
       " ' va',\n",
       " ' en',\n",
       " ' tu',\n",
       " ' dia']"
      ]
     },
     "execution_count": 9,
     "metadata": {},
     "output_type": "execute_result"
    }
   ],
   "source": [
    "words.collect() # separados por ,"
   ]
  },
  {
   "cell_type": "code",
   "execution_count": 10,
   "metadata": {},
   "outputs": [
    {
     "data": {
      "text/plain": [
       "['hola, como, estas, hoy', 'hola, como, te, va, en, tu, dia']"
      ]
     },
     "execution_count": 10,
     "metadata": {},
     "output_type": "execute_result"
    }
   ],
   "source": [
    "records_lowercase.collect() # minusculas"
   ]
  },
  {
   "cell_type": "markdown",
   "metadata": {},
   "source": [
    "# Notacion relevante"
   ]
  },
  {
   "cell_type": "markdown",
   "metadata": {},
   "source": [
    "1. `from pyspark.sql import SparkSession`: Importa la clase SparkSession\n",
    "2. `SparkSession.builder` : Provee acceso a la API Builder para construir instancia de SparkSession\n",
    "3. `.config(\"spark.some.config.option\", \"some-value\")` : configuracion `(<key>, <value>)`\n",
    "4. `.getOrCreate()` : obtiene una SparkSession existente sino hay crear una basada en las opciones predefinidas\n",
    "5. `print(spark.version)`: Para debugging\n",
    "6. `sc = spark.sparkContext`: El SparkContext puede referenciarse como instancia de SparSession\n"
   ]
  },
  {
   "cell_type": "code",
   "execution_count": 12,
   "metadata": {},
   "outputs": [
    {
     "name": "stdout",
     "output_type": "stream",
     "text": [
      "3.4.1\n"
     ]
    }
   ],
   "source": [
    "from pyspark.sql import SparkSession \n",
    "# crear una instancia de  SparkSession como spark\n",
    "spark = SparkSession.builder \\\n",
    "    .master(\"local\") \\\n",
    "    .appName(\"my-application-name\") \\\n",
    "    .config(\"spark.some.config.option\", \"some-value\") \\\n",
    "    .getOrCreate()\n",
    "# para hacer debug de la SparkSession\n",
    "print(spark.version)\n",
    "# crear una referencia al SparkContext como sc\n",
    "# SparkContext se usa para crear nuevos RDDs\n",
    "sc = spark.sparkContext"
   ]
  }
 ],
 "metadata": {
  "kernelspec": {
   "display_name": "Python 3",
   "language": "python",
   "name": "python3"
  },
  "language_info": {
   "codemirror_mode": {
    "name": "ipython",
    "version": 3
   },
   "file_extension": ".py",
   "mimetype": "text/x-python",
   "name": "python",
   "nbconvert_exporter": "python",
   "pygments_lexer": "ipython3",
   "version": "3.9.1"
  },
  "orig_nbformat": 4
 },
 "nbformat": 4,
 "nbformat_minor": 2
}
