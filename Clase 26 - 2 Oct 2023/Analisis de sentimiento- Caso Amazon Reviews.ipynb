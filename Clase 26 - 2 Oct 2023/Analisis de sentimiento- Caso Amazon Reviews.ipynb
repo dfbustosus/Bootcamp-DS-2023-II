{
 "cells": [
  {
   "attachments": {},
   "cell_type": "markdown",
   "metadata": {},
   "source": [
    "# ¿Cómo podemos predecir el sentimiento asociado con una interacción con el cliente?"
   ]
  },
  {
   "cell_type": "code",
   "execution_count": 2,
   "metadata": {},
   "outputs": [
    {
     "name": "stderr",
     "output_type": "stream",
     "text": [
      "WARNING: Ignoring invalid distribution -rotobuf (c:\\users\\windows\\appdata\\roaming\\python\\python39\\site-packages)\n",
      "WARNING: Ignoring invalid distribution -rotobuf (c:\\users\\windows\\appdata\\roaming\\python\\python39\\site-packages)\n",
      "\n",
      "[notice] A new release of pip is available: 23.1.2 -> 23.2.1\n",
      "[notice] To update, run: python.exe -m pip install --upgrade pip\n"
     ]
    }
   ],
   "source": [
    "!pip install -q wordcloud"
   ]
  },
  {
   "cell_type": "code",
   "execution_count": 1,
   "metadata": {},
   "outputs": [],
   "source": [
    "import numpy as np\n",
    "import pandas as pd\n",
    "import os\n",
    "import nltk\n",
    "from nltk import word_tokenize\n",
    "from sklearn.feature_extraction.text import CountVectorizer\n",
    "from collections import Counter\n",
    "import matplotlib.pyplot as plt\n",
    "from wordcloud import WordCloud\n",
    "from pylab import rcParams\n",
    "from sklearn.model_selection import train_test_split\n",
    "from sklearn.linear_model import LogisticRegression\n",
    "from sklearn.metrics import accuracy_score\n",
    "from sklearn.metrics import f1_score\n",
    "from sklearn.ensemble import RandomForestClassifier\n",
    "from sklearn.feature_extraction.text import TfidfVectorizer\n",
    "rcParams['figure.figsize'] = 30, 60\n",
    "\n",
    "%matplotlib inline"
   ]
  },
  {
   "attachments": {},
   "cell_type": "markdown",
   "metadata": {},
   "source": [
    "**Fuente de datos**\n",
    "\n",
    "Modelo de incrustciones pre entrenado: https://drive.google.com/file/d/1o_ZPj9b2tO-XxYdrdNIjpSA4HBZBBKqj/view?usp=share_link\n",
    "\n",
    "Archivo de reviews: https://drive.google.com/file/d/1bXUCEsx9DbavsaH9iKFYPt3cRY3vVCdN/view?usp=share_link"
   ]
  },
  {
   "attachments": {},
   "cell_type": "markdown",
   "metadata": {},
   "source": [
    "## Introduccion\n",
    "\n",
    "**Contexto comercial.** Eres un científico de datos para una gran empresa de comercio electrónico. Tienes decenas de miles de clientes que escriben reseñas sobre productos cada día. Cada revisión contiene comentarios textuales junto con un sistema de calificación de 1 a 5 estrellas (siendo 1 la menos satisfecha y 5 la más satisfecha). También tiene un equipo de atención al cliente que interactúa con los clientes a través de servicios de llamadas y mensajes. Su empresa también recopila comentarios sobre las experiencias de sus clientes con la interacción del sitio web después de cada compra. Ni este comentario ni el servicio de mensajería tienen un número de calificación. La empresa quiere cuantificar la satisfacción del cliente proveniente de estas interacciones no calificadas para ayudar con futuras decisiones comerciales (por ejemplo, determinar qué tan bien se están desempeñando sus diversos agentes de servicio al cliente).\n",
    "\n",
    "**Problema comercial.** Su tarea es **construir modelos que puedan identificar el sentimiento (positivo o negativo) de cada una de estas interacciones no clasificadas**.\n",
    "\n",
    "**Contexto analítico.** Los datos son un conjunto de reseñas en formato de archivo CSV. Combinaremos lo que aprendimos sobre el procesamiento de texto y los modelos de clasificación para desarrollar algoritmos capaces de clasificar las interacciones por sentimiento.\n",
    "\n",
    "El caso está estructurado de la siguiente manera: 1) leeremos y analizaremos los datos del texto de entrada y las variables de respuesta correspondientes (calificaciones); 2) realizaremos un preprocesamiento básico para preparar los datos para el modelado; 3) aprenderemos y aplicaremos varias formas de caracterizar el texto de reseñas; y finalmente 4) construiremos modelos de aprendizaje automático para clasificar el texto como mostrando un sentimiento positivo o negativo (1 o 0)."
   ]
  },
  {
   "attachments": {},
   "cell_type": "markdown",
   "metadata": {},
   "source": [
    "## Leyendo la data\n"
   ]
  },
  {
   "cell_type": "code",
   "execution_count": 2,
   "metadata": {
    "scrolled": true
   },
   "outputs": [],
   "source": [
    "amazon_reviews = pd.read_csv('Reviews.csv')\n",
    "## Elegimos solo los primeros 10000 por memoria\n",
    "amazon_reviews = amazon_reviews[:10000]\n",
    "## Cambiando los nombres de las columnas para que no tengan puntos (.)\n",
    "#amazon_reviews.columns = [each.replace(\".\",\"_\") for each in amazon_reviews.columns]"
   ]
  },
  {
   "cell_type": "code",
   "execution_count": 5,
   "metadata": {},
   "outputs": [
    {
     "data": {
      "text/html": [
       "<div>\n",
       "<style scoped>\n",
       "    .dataframe tbody tr th:only-of-type {\n",
       "        vertical-align: middle;\n",
       "    }\n",
       "\n",
       "    .dataframe tbody tr th {\n",
       "        vertical-align: top;\n",
       "    }\n",
       "\n",
       "    .dataframe thead th {\n",
       "        text-align: right;\n",
       "    }\n",
       "</style>\n",
       "<table border=\"1\" class=\"dataframe\">\n",
       "  <thead>\n",
       "    <tr style=\"text-align: right;\">\n",
       "      <th></th>\n",
       "      <th>Id</th>\n",
       "      <th>ProductId</th>\n",
       "      <th>UserId</th>\n",
       "      <th>ProfileName</th>\n",
       "      <th>HelpfulnessNumerator</th>\n",
       "      <th>HelpfulnessDenominator</th>\n",
       "      <th>Score</th>\n",
       "      <th>Time</th>\n",
       "      <th>Summary</th>\n",
       "      <th>Text</th>\n",
       "    </tr>\n",
       "  </thead>\n",
       "  <tbody>\n",
       "    <tr>\n",
       "      <th>0</th>\n",
       "      <td>1</td>\n",
       "      <td>B001E4KFG0</td>\n",
       "      <td>A3SGXH7AUHU8GW</td>\n",
       "      <td>delmartian</td>\n",
       "      <td>1</td>\n",
       "      <td>1</td>\n",
       "      <td>5</td>\n",
       "      <td>1303862400</td>\n",
       "      <td>Good Quality Dog Food</td>\n",
       "      <td>I have bought several of the Vitality canned d...</td>\n",
       "    </tr>\n",
       "    <tr>\n",
       "      <th>1</th>\n",
       "      <td>2</td>\n",
       "      <td>B00813GRG4</td>\n",
       "      <td>A1D87F6ZCVE5NK</td>\n",
       "      <td>dll pa</td>\n",
       "      <td>0</td>\n",
       "      <td>0</td>\n",
       "      <td>1</td>\n",
       "      <td>1346976000</td>\n",
       "      <td>Not as Advertised</td>\n",
       "      <td>Product arrived labeled as Jumbo Salted Peanut...</td>\n",
       "    </tr>\n",
       "    <tr>\n",
       "      <th>2</th>\n",
       "      <td>3</td>\n",
       "      <td>B000LQOCH0</td>\n",
       "      <td>ABXLMWJIXXAIN</td>\n",
       "      <td>Natalia Corres \"Natalia Corres\"</td>\n",
       "      <td>1</td>\n",
       "      <td>1</td>\n",
       "      <td>4</td>\n",
       "      <td>1219017600</td>\n",
       "      <td>\"Delight\" says it all</td>\n",
       "      <td>This is a confection that has been around a fe...</td>\n",
       "    </tr>\n",
       "    <tr>\n",
       "      <th>3</th>\n",
       "      <td>4</td>\n",
       "      <td>B000UA0QIQ</td>\n",
       "      <td>A395BORC6FGVXV</td>\n",
       "      <td>Karl</td>\n",
       "      <td>3</td>\n",
       "      <td>3</td>\n",
       "      <td>2</td>\n",
       "      <td>1307923200</td>\n",
       "      <td>Cough Medicine</td>\n",
       "      <td>If you are looking for the secret ingredient i...</td>\n",
       "    </tr>\n",
       "    <tr>\n",
       "      <th>4</th>\n",
       "      <td>5</td>\n",
       "      <td>B006K2ZZ7K</td>\n",
       "      <td>A1UQRSCLF8GW1T</td>\n",
       "      <td>Michael D. Bigham \"M. Wassir\"</td>\n",
       "      <td>0</td>\n",
       "      <td>0</td>\n",
       "      <td>5</td>\n",
       "      <td>1350777600</td>\n",
       "      <td>Great taffy</td>\n",
       "      <td>Great taffy at a great price.  There was a wid...</td>\n",
       "    </tr>\n",
       "    <tr>\n",
       "      <th>...</th>\n",
       "      <td>...</td>\n",
       "      <td>...</td>\n",
       "      <td>...</td>\n",
       "      <td>...</td>\n",
       "      <td>...</td>\n",
       "      <td>...</td>\n",
       "      <td>...</td>\n",
       "      <td>...</td>\n",
       "      <td>...</td>\n",
       "      <td>...</td>\n",
       "    </tr>\n",
       "    <tr>\n",
       "      <th>9995</th>\n",
       "      <td>9996</td>\n",
       "      <td>B000P41A28</td>\n",
       "      <td>A3A63RACXR1XIL</td>\n",
       "      <td>A. Boodhoo \"deaddodo\"</td>\n",
       "      <td>10</td>\n",
       "      <td>15</td>\n",
       "      <td>1</td>\n",
       "      <td>1204502400</td>\n",
       "      <td>constipation</td>\n",
       "      <td>we switched from the advance similac to the or...</td>\n",
       "    </tr>\n",
       "    <tr>\n",
       "      <th>9996</th>\n",
       "      <td>9997</td>\n",
       "      <td>B000P41A28</td>\n",
       "      <td>A5VVRGL8JA7R</td>\n",
       "      <td>Adam</td>\n",
       "      <td>2</td>\n",
       "      <td>3</td>\n",
       "      <td>5</td>\n",
       "      <td>1306368000</td>\n",
       "      <td>Constipation Not A Problem if...</td>\n",
       "      <td>Like the bad reviews say, the organic formula ...</td>\n",
       "    </tr>\n",
       "    <tr>\n",
       "      <th>9997</th>\n",
       "      <td>9998</td>\n",
       "      <td>B000P41A28</td>\n",
       "      <td>A2TGDTJ8YCU6PD</td>\n",
       "      <td>geena77</td>\n",
       "      <td>0</td>\n",
       "      <td>0</td>\n",
       "      <td>5</td>\n",
       "      <td>1347494400</td>\n",
       "      <td>Love this formula!</td>\n",
       "      <td>I wanted to solely breastfeed but was unable t...</td>\n",
       "    </tr>\n",
       "    <tr>\n",
       "      <th>9998</th>\n",
       "      <td>9999</td>\n",
       "      <td>B000P41A28</td>\n",
       "      <td>AUV4GIZZE693O</td>\n",
       "      <td>Susan Coe \"sueysis\"</td>\n",
       "      <td>1</td>\n",
       "      <td>2</td>\n",
       "      <td>5</td>\n",
       "      <td>1203638400</td>\n",
       "      <td>very convenient</td>\n",
       "      <td>i love the fact that i can get this delieved t...</td>\n",
       "    </tr>\n",
       "    <tr>\n",
       "      <th>9999</th>\n",
       "      <td>10000</td>\n",
       "      <td>B000P41A28</td>\n",
       "      <td>A82WIMR4RSVLI</td>\n",
       "      <td>Emrose mom</td>\n",
       "      <td>0</td>\n",
       "      <td>1</td>\n",
       "      <td>4</td>\n",
       "      <td>1337472000</td>\n",
       "      <td>The best weve tried so far</td>\n",
       "      <td>We have a 7 week old... He had gas and constip...</td>\n",
       "    </tr>\n",
       "  </tbody>\n",
       "</table>\n",
       "<p>10000 rows × 10 columns</p>\n",
       "</div>"
      ],
      "text/plain": [
       "         Id   ProductId          UserId                      ProfileName  \\\n",
       "0         1  B001E4KFG0  A3SGXH7AUHU8GW                       delmartian   \n",
       "1         2  B00813GRG4  A1D87F6ZCVE5NK                           dll pa   \n",
       "2         3  B000LQOCH0   ABXLMWJIXXAIN  Natalia Corres \"Natalia Corres\"   \n",
       "3         4  B000UA0QIQ  A395BORC6FGVXV                             Karl   \n",
       "4         5  B006K2ZZ7K  A1UQRSCLF8GW1T    Michael D. Bigham \"M. Wassir\"   \n",
       "...     ...         ...             ...                              ...   \n",
       "9995   9996  B000P41A28  A3A63RACXR1XIL            A. Boodhoo \"deaddodo\"   \n",
       "9996   9997  B000P41A28    A5VVRGL8JA7R                             Adam   \n",
       "9997   9998  B000P41A28  A2TGDTJ8YCU6PD                          geena77   \n",
       "9998   9999  B000P41A28   AUV4GIZZE693O              Susan Coe \"sueysis\"   \n",
       "9999  10000  B000P41A28   A82WIMR4RSVLI                       Emrose mom   \n",
       "\n",
       "      HelpfulnessNumerator  HelpfulnessDenominator  Score        Time  \\\n",
       "0                        1                       1      5  1303862400   \n",
       "1                        0                       0      1  1346976000   \n",
       "2                        1                       1      4  1219017600   \n",
       "3                        3                       3      2  1307923200   \n",
       "4                        0                       0      5  1350777600   \n",
       "...                    ...                     ...    ...         ...   \n",
       "9995                    10                      15      1  1204502400   \n",
       "9996                     2                       3      5  1306368000   \n",
       "9997                     0                       0      5  1347494400   \n",
       "9998                     1                       2      5  1203638400   \n",
       "9999                     0                       1      4  1337472000   \n",
       "\n",
       "                               Summary  \\\n",
       "0                Good Quality Dog Food   \n",
       "1                    Not as Advertised   \n",
       "2                \"Delight\" says it all   \n",
       "3                       Cough Medicine   \n",
       "4                          Great taffy   \n",
       "...                                ...   \n",
       "9995                      constipation   \n",
       "9996  Constipation Not A Problem if...   \n",
       "9997                Love this formula!   \n",
       "9998                   very convenient   \n",
       "9999        The best weve tried so far   \n",
       "\n",
       "                                                   Text  \n",
       "0     I have bought several of the Vitality canned d...  \n",
       "1     Product arrived labeled as Jumbo Salted Peanut...  \n",
       "2     This is a confection that has been around a fe...  \n",
       "3     If you are looking for the secret ingredient i...  \n",
       "4     Great taffy at a great price.  There was a wid...  \n",
       "...                                                 ...  \n",
       "9995  we switched from the advance similac to the or...  \n",
       "9996  Like the bad reviews say, the organic formula ...  \n",
       "9997  I wanted to solely breastfeed but was unable t...  \n",
       "9998  i love the fact that i can get this delieved t...  \n",
       "9999  We have a 7 week old... He had gas and constip...  \n",
       "\n",
       "[10000 rows x 10 columns]"
      ]
     },
     "execution_count": 5,
     "metadata": {},
     "output_type": "execute_result"
    }
   ],
   "source": [
    "amazon_reviews"
   ]
  },
  {
   "attachments": {},
   "cell_type": "markdown",
   "metadata": {},
   "source": [
    "Veamos la distribución del número de palabras por reseña:"
   ]
  },
  {
   "cell_type": "code",
   "execution_count": 7,
   "metadata": {},
   "outputs": [
    {
     "data": {
      "text/plain": [
       "3"
      ]
     },
     "execution_count": 7,
     "metadata": {},
     "output_type": "execute_result"
    }
   ],
   "source": [
    "h= \"Hola como estas\"\n",
    "#len(h.split(\" \"))\n",
    "len(h.split(\" \"))"
   ]
  },
  {
   "cell_type": "code",
   "execution_count": 3,
   "metadata": {},
   "outputs": [
    {
     "data": {
      "text/plain": [
       "Text(0.5, 1.0, 'Distribucion palabras / comentario')"
      ]
     },
     "execution_count": 3,
     "metadata": {},
     "output_type": "execute_result"
    },
    {
     "data": {
      "image/png": "[encoded data removed]",
      "text/plain": [
       "<Figure size 1200x600 with 1 Axes>"
      ]
     },
     "metadata": {},
     "output_type": "display_data"
    }
   ],
   "source": [
    "import matplotlib.pyplot as plt\n",
    "words_per_review = amazon_reviews.Text.apply(lambda x: len(x.split(\" \")))\n",
    "words_per_review.hist(bins = 100,figsize=(12,6))\n",
    "plt.xlabel('Words')\n",
    "plt.ylabel('Freq')\n",
    "plt.title('Distribucion palabras / comentario')"
   ]
  },
  {
   "cell_type": "code",
   "execution_count": 4,
   "metadata": {},
   "outputs": [
    {
     "data": {
      "text/plain": [
       "77.9028"
      ]
     },
     "execution_count": 4,
     "metadata": {},
     "output_type": "execute_result"
    }
   ],
   "source": [
    "words_per_review.mean()"
   ]
  },
  {
   "attachments": {},
   "cell_type": "markdown",
   "metadata": {},
   "source": [
    "Ahora miremos la distribucion de los ratings:"
   ]
  },
  {
   "cell_type": "code",
   "execution_count": 5,
   "metadata": {
    "scrolled": false
   },
   "outputs": [
    {
     "data": {
      "text/plain": [
       "Score\n",
       "5    6183\n",
       "4    1433\n",
       "1     932\n",
       "3     862\n",
       "2     590\n",
       "Name: count, dtype: int64"
      ]
     },
     "execution_count": 5,
     "metadata": {},
     "output_type": "execute_result"
    }
   ],
   "source": [
    "amazon_reviews.Score.value_counts()"
   ]
  },
  {
   "cell_type": "code",
   "execution_count": 6,
   "metadata": {
    "scrolled": false
   },
   "outputs": [
    {
     "data": {
      "text/plain": [
       "Score\n",
       "5    61.83\n",
       "4    14.33\n",
       "1     9.32\n",
       "3     8.62\n",
       "2     5.90\n",
       "Name: count, dtype: float64"
      ]
     },
     "execution_count": 6,
     "metadata": {},
     "output_type": "execute_result"
    }
   ],
   "source": [
    "percent_val = 100 * amazon_reviews.Score.value_counts()/amazon_reviews.shape[0]\n",
    "percent_val"
   ]
  },
  {
   "cell_type": "code",
   "execution_count": 12,
   "metadata": {},
   "outputs": [
    {
     "data": {
      "text/plain": [
       "<Axes: xlabel='Score'>"
      ]
     },
     "execution_count": 12,
     "metadata": {},
     "output_type": "execute_result"
    },
    {
     "data": {
      "image/png": "[encoded data removed]",
      "text/plain": [
       "<Figure size 1200x600 with 1 Axes>"
      ]
     },
     "metadata": {},
     "output_type": "display_data"
    }
   ],
   "source": [
    "percent_val.plot.bar(figsize=(12,6))"
   ]
  },
  {
   "attachments": {},
   "cell_type": "markdown",
   "metadata": {},
   "source": [
    "La distribución es bastante sesgada, con un gran número de 5 y muy pocos 3, 2 y 1."
   ]
  },
  {
   "attachments": {},
   "cell_type": "markdown",
   "metadata": {},
   "source": [
    "### Ejercicio 1\n",
    "\n",
    "Cree una nube de palabras para las reseñas de productos."
   ]
  },
  {
   "cell_type": "code",
   "execution_count": 18,
   "metadata": {},
   "outputs": [
    {
     "data": {
      "text/plain": [
       "'I have bought several of the Vitality canned dog food products and have found them all to be of good quality. The product looks more like a stew than a processed meat and it smells better. My Labrador is finicky and she appreciates this product better than  most.Product arrived labeled as Jumbo Salted Peanuts...the peanuts were actually small sized unsalted. Not sure if this was an error or if the vendor intended to represent the product as \"Jumbo\".'"
      ]
     },
     "execution_count": 18,
     "metadata": {},
     "output_type": "execute_result"
    }
   ],
   "source": [
    "''.join(amazon_reviews.Text[:10000])"
   ]
  },
  {
   "cell_type": "code",
   "execution_count": null,
   "metadata": {},
   "outputs": [],
   "source": [
    "''.join(amazon_reviews.Text[:2])"
   ]
  },
  {
   "cell_type": "code",
   "execution_count": 7,
   "metadata": {},
   "outputs": [
    {
     "name": "stdout",
     "output_type": "stream",
     "text": [
      "4157740\n"
     ]
    },
    {
     "data": {
      "image/png": "[encoded data removed]",
      "text/plain": [
       "<Figure size 1200x600 with 1 Axes>"
      ]
     },
     "metadata": {},
     "output_type": "display_data"
    }
   ],
   "source": [
    "word_cloud_text = ''.join(amazon_reviews.Text[:10000])\n",
    "print(len(word_cloud_text))\n",
    "wordcloud = WordCloud(max_font_size=100, max_words=100, background_color=\"white\",\\\n",
    "                          scale = 10,width=800, height=400).generate(word_cloud_text)\n",
    "plt.figure(figsize=(12,6))\n",
    "plt.imshow(wordcloud, interpolation=\"bilinear\",cmap='jet')\n",
    "plt.axis(\"off\")\n",
    "plt.show()"
   ]
  },
  {
   "attachments": {},
   "cell_type": "markdown",
   "metadata": {},
   "source": [
    "La nube de palabras indica que muchas de las reseñas hablan de cosas relacionadas con la comida: café, sabor, comida, sabor, bebida. También vemos algunas palabras positivas como bueno, amor, mejor."
   ]
  },
  {
   "attachments": {},
   "cell_type": "markdown",
   "metadata": {},
   "source": [
    "### Estandarización de ratings para análisis de sentimiento"
   ]
  },
  {
   "attachments": {},
   "cell_type": "markdown",
   "metadata": {},
   "source": [
    "Para fines de análisis de sentimiento, convertiremos todas las calificaciones en valores binarios utilizando la siguiente regla: las calificaciones de 4 o 5 se asignarán a 1, las calificaciones de 1 o 2 se asignarán a 0 y las calificaciones de 3 se dejaran por fuera."
   ]
  },
  {
   "cell_type": "code",
   "execution_count": 8,
   "metadata": {},
   "outputs": [
    {
     "data": {
      "text/plain": [
       "Sentiment_rating\n",
       "1    7616\n",
       "0    2384\n",
       "Name: count, dtype: int64"
      ]
     },
     "execution_count": 8,
     "metadata": {},
     "output_type": "execute_result"
    }
   ],
   "source": [
    "amazon_reviews['Sentiment_rating'] = np.where(amazon_reviews.Score > 3,1,0)\n",
    "amazon_reviews['Sentiment_rating'].value_counts()"
   ]
  },
  {
   "cell_type": "code",
   "execution_count": 9,
   "metadata": {},
   "outputs": [],
   "source": [
    "##Removiendo la categoria neutral por ahora\n",
    "amazon_reviews = amazon_reviews[amazon_reviews['Score'] != 3]"
   ]
  },
  {
   "cell_type": "code",
   "execution_count": 10,
   "metadata": {
    "scrolled": true
   },
   "outputs": [
    {
     "data": {
      "text/plain": [
       "<Axes: xlabel='Sentiment_rating'>"
      ]
     },
     "execution_count": 10,
     "metadata": {},
     "output_type": "execute_result"
    },
    {
     "data": {
      "image/png": "[encoded data removed]",
      "text/plain": [
       "<Figure size 500x300 with 1 Axes>"
      ]
     },
     "metadata": {},
     "output_type": "display_data"
    }
   ],
   "source": [
    "rcParams['figure.figsize'] = 5, 3\n",
    "#plt.figure(figsize=(12,6))\n",
    "amazon_reviews.Sentiment_rating.value_counts().plot.bar()"
   ]
  },
  {
   "cell_type": "code",
   "execution_count": 11,
   "metadata": {},
   "outputs": [
    {
     "data": {
      "text/html": [
       "<div>\n",
       "<style scoped>\n",
       "    .dataframe tbody tr th:only-of-type {\n",
       "        vertical-align: middle;\n",
       "    }\n",
       "\n",
       "    .dataframe tbody tr th {\n",
       "        vertical-align: top;\n",
       "    }\n",
       "\n",
       "    .dataframe thead th {\n",
       "        text-align: right;\n",
       "    }\n",
       "</style>\n",
       "<table border=\"1\" class=\"dataframe\">\n",
       "  <thead>\n",
       "    <tr style=\"text-align: right;\">\n",
       "      <th></th>\n",
       "      <th>Text</th>\n",
       "      <th>Sentiment_rating</th>\n",
       "    </tr>\n",
       "  </thead>\n",
       "  <tbody>\n",
       "    <tr>\n",
       "      <th>0</th>\n",
       "      <td>I have bought several of the Vitality canned d...</td>\n",
       "      <td>1</td>\n",
       "    </tr>\n",
       "    <tr>\n",
       "      <th>1</th>\n",
       "      <td>Product arrived labeled as Jumbo Salted Peanut...</td>\n",
       "      <td>0</td>\n",
       "    </tr>\n",
       "    <tr>\n",
       "      <th>2</th>\n",
       "      <td>This is a confection that has been around a fe...</td>\n",
       "      <td>1</td>\n",
       "    </tr>\n",
       "    <tr>\n",
       "      <th>3</th>\n",
       "      <td>If you are looking for the secret ingredient i...</td>\n",
       "      <td>0</td>\n",
       "    </tr>\n",
       "    <tr>\n",
       "      <th>4</th>\n",
       "      <td>Great taffy at a great price.  There was a wid...</td>\n",
       "      <td>1</td>\n",
       "    </tr>\n",
       "    <tr>\n",
       "      <th>...</th>\n",
       "      <td>...</td>\n",
       "      <td>...</td>\n",
       "    </tr>\n",
       "    <tr>\n",
       "      <th>9995</th>\n",
       "      <td>we switched from the advance similac to the or...</td>\n",
       "      <td>0</td>\n",
       "    </tr>\n",
       "    <tr>\n",
       "      <th>9996</th>\n",
       "      <td>Like the bad reviews say, the organic formula ...</td>\n",
       "      <td>1</td>\n",
       "    </tr>\n",
       "    <tr>\n",
       "      <th>9997</th>\n",
       "      <td>I wanted to solely breastfeed but was unable t...</td>\n",
       "      <td>1</td>\n",
       "    </tr>\n",
       "    <tr>\n",
       "      <th>9998</th>\n",
       "      <td>i love the fact that i can get this delieved t...</td>\n",
       "      <td>1</td>\n",
       "    </tr>\n",
       "    <tr>\n",
       "      <th>9999</th>\n",
       "      <td>We have a 7 week old... He had gas and constip...</td>\n",
       "      <td>1</td>\n",
       "    </tr>\n",
       "  </tbody>\n",
       "</table>\n",
       "<p>9138 rows × 2 columns</p>\n",
       "</div>"
      ],
      "text/plain": [
       "                                                   Text  Sentiment_rating\n",
       "0     I have bought several of the Vitality canned d...                 1\n",
       "1     Product arrived labeled as Jumbo Salted Peanut...                 0\n",
       "2     This is a confection that has been around a fe...                 1\n",
       "3     If you are looking for the secret ingredient i...                 0\n",
       "4     Great taffy at a great price.  There was a wid...                 1\n",
       "...                                                 ...               ...\n",
       "9995  we switched from the advance similac to the or...                 0\n",
       "9996  Like the bad reviews say, the organic formula ...                 1\n",
       "9997  I wanted to solely breastfeed but was unable t...                 1\n",
       "9998  i love the fact that i can get this delieved t...                 1\n",
       "9999  We have a 7 week old... He had gas and constip...                 1\n",
       "\n",
       "[9138 rows x 2 columns]"
      ]
     },
     "execution_count": 11,
     "metadata": {},
     "output_type": "execute_result"
    }
   ],
   "source": [
    "amazon_reviews[['Text','Sentiment_rating']]"
   ]
  },
  {
   "attachments": {},
   "cell_type": "markdown",
   "metadata": {},
   "source": [
    "## Pre-procesamiento"
   ]
  },
  {
   "attachments": {},
   "cell_type": "markdown",
   "metadata": {},
   "source": [
    "Como se discutió anteriormente, el preprocesamiento y la normalización del texto son cruciales antes de construir un modelo NLP adecuado. Algunos de los pasos importantes son:\n",
    "\n",
    "1. convertir palabras a minúsculas/mayúsculas\n",
    "2. eliminar caracteres especiales\n",
    "3. eliminar palabras vacías y palabras de alta/baja frecuencia\n",
    "4. Stemming/lematización\n",
    "\n",
    "Procedamos en orden. Comencemos convirtiendo todas las palabras en un formato de mayúsculas y minúsculas consistente, digamos en minúsculas:"
   ]
  },
  {
   "cell_type": "code",
   "execution_count": 12,
   "metadata": {},
   "outputs": [],
   "source": [
    "amazon_reviews['reviews_text_new'] = amazon_reviews.Text.apply(lambda x: x.lower())"
   ]
  },
  {
   "cell_type": "code",
   "execution_count": 15,
   "metadata": {},
   "outputs": [
    {
     "data": {
      "text/plain": [
       "['Hola como estas.', 'Bien y tu.']"
      ]
     },
     "execution_count": 15,
     "metadata": {},
     "output_type": "execute_result"
    }
   ],
   "source": [
    "from nltk import word_tokenize, sent_tokenize\n",
    "word_tokenize('Hola como estas, estoy esperando: 1.')\n",
    "sent_tokenize(\"Hola como estas. Bien y tu. \")"
   ]
  },
  {
   "cell_type": "code",
   "execution_count": 16,
   "metadata": {},
   "outputs": [
    {
     "name": "stdout",
     "output_type": "stream",
     "text": [
      "Numero de tokens unicos antes:  27509\n",
      "Numero de token unicos ahora:  22473\n"
     ]
    }
   ],
   "source": [
    "from nltk import word_tokenize\n",
    "\n",
    "token_lists = [word_tokenize(each) for each in amazon_reviews.Text]\n",
    "tokens = [item for sublist in token_lists for item in sublist]\n",
    "print(\"Numero de tokens unicos antes: \",len(set(tokens)))\n",
    "\n",
    "token_lists_lower = [word_tokenize(each) for each in amazon_reviews.reviews_text_new]\n",
    "tokens_lower = [item for sublist in token_lists_lower for item in sublist]\n",
    "print(\"Numero de token unicos ahora: \",len(set(tokens_lower)))"
   ]
  },
  {
   "cell_type": "code",
   "execution_count": 17,
   "metadata": {},
   "outputs": [
    {
     "data": {
      "text/plain": [
       "22.408116045207795"
      ]
     },
     "execution_count": 17,
     "metadata": {},
     "output_type": "execute_result"
    }
   ],
   "source": [
    "(27510-22474)/22474*100"
   ]
  },
  {
   "attachments": {},
   "cell_type": "markdown",
   "metadata": {},
   "source": [
    "La cantidad de tokens se ha reducido en ~22% solo por normalizar el caso."
   ]
  },
  {
   "attachments": {},
   "cell_type": "markdown",
   "metadata": {},
   "source": [
    "### Ejercicio 2\n",
    "\n",
    "¿Es la eliminación de caracteres especiales incluso una buena idea? ¿Cuáles son algunos ejemplos de caracteres que probablemente sería seguro eliminar y cuáles no?"
   ]
  },
  {
   "attachments": {},
   "cell_type": "markdown",
   "metadata": {},
   "source": [
    "**Respuesta.** Eliminar caracteres especiales es una decisión subjetiva, especialmente en casos como este. Las personas a menudo usan caracteres especiales para expresar sus emociones y pueden dejar una reseña como _'¡Este producto es el peor!'_, mientras que una reseña positiva podría ser _'¡Este producto es el mejor! ¡Me encantó!'_ Aquí, la presencia de signos de exclamación indica claramente algo sobre el sentimiento subyacente, por lo que eliminarlos puede no ser una buena idea.\n",
    "\n",
    "Por otro lado, eliminar la puntuación sin carga emocional, como las comas, los puntos y el punto y coma, probablemente sea seguro."
   ]
  },
  {
   "attachments": {},
   "cell_type": "markdown",
   "metadata": {},
   "source": [
    "En aras de la simplicidad, procederemos eliminando todos los caracteres especiales; sin embargo, vale la pena tener en cuenta que esto es algo para revisar dependiendo de los resultados que obtengamos más adelante. Lo siguiente da una lista de todos los caracteres especiales en nuestro conjunto de datos:"
   ]
  },
  {
   "cell_type": "code",
   "execution_count": 22,
   "metadata": {},
   "outputs": [
    {
     "data": {
      "text/plain": [
       "True"
      ]
     },
     "execution_count": 22,
     "metadata": {},
     "output_type": "execute_result"
    }
   ],
   "source": [
    "x= 'david27437464'\n",
    "x.isalnum()"
   ]
  },
  {
   "cell_type": "code",
   "execution_count": 23,
   "metadata": {},
   "outputs": [
    {
     "data": {
      "text/plain": [
       "0                                               [., ., .]\n",
       "1                                   [., ., ., ., \", \", .]\n",
       "2       [., ,, -, ., ., ., ,, ., ., ., ., ', \", ,, ,, ...\n",
       "3                                         [., (, ), ., .]\n",
       "4                                         [., ., ., ,, .]\n",
       "                              ...                        \n",
       "9995                                            [., ., .]\n",
       "9996    [,, ., ,, (, -, ), ., ', ., ', ,, ,, ., <, /, ...\n",
       "9997    [., ., ., ., ., ., ., ,, ., ., ,, ,, (, ), ., ...\n",
       "9998                                                  [.]\n",
       "9999    [., ., ., ., ., ., ', ,, ., <, /, >, ., ,, ., ...\n",
       "Name: reviews_text_new, Length: 9138, dtype: object"
      ]
     },
     "execution_count": 23,
     "metadata": {},
     "output_type": "execute_result"
    }
   ],
   "source": [
    "spl_chars = amazon_reviews.reviews_text_new.apply(lambda x: [each for each in list(x) if not each.isalnum() and each != ' '])\n",
    "spl_chars"
   ]
  },
  {
   "cell_type": "code",
   "execution_count": null,
   "metadata": {},
   "outputs": [],
   "source": [
    "lista_vacia=[]\n",
    "for i in spl_chars:\n",
    "    for j in i:\n",
    "        lista_vacia.append(j)\n",
    "set(lista_vacia)"
   ]
  },
  {
   "cell_type": "code",
   "execution_count": 24,
   "metadata": {},
   "outputs": [
    {
     "name": "stdout",
     "output_type": "stream",
     "text": [
      "148403\n",
      "32\n"
     ]
    },
    {
     "data": {
      "text/plain": [
       "{'!',\n",
       " '\"',\n",
       " '#',\n",
       " '$',\n",
       " '%',\n",
       " '&',\n",
       " \"'\",\n",
       " '(',\n",
       " ')',\n",
       " '*',\n",
       " '+',\n",
       " ',',\n",
       " '-',\n",
       " '.',\n",
       " '/',\n",
       " ':',\n",
       " ';',\n",
       " '<',\n",
       " '=',\n",
       " '>',\n",
       " '?',\n",
       " '@',\n",
       " '[',\n",
       " ']',\n",
       " '^',\n",
       " '_',\n",
       " '`',\n",
       " '{',\n",
       " '}',\n",
       " '~',\n",
       " '§',\n",
       " '®'}"
      ]
     },
     "execution_count": 24,
     "metadata": {},
     "output_type": "execute_result"
    }
   ],
   "source": [
    "### Seleccionar caracteres no alfanuméricos que no sean espacios\n",
    "spl_chars = amazon_reviews.reviews_text_new.apply(lambda x: [each for each in list(x) if not each.isalnum() and each != ' '])\n",
    "\n",
    "## Obteniendo todo en una lista\n",
    "flat_list = [item for sublist in spl_chars for item in sublist]\n",
    "\n",
    "## Caracteres especiales unicos\n",
    "print(len(flat_list))\n",
    "print(len(set(flat_list)))\n",
    "set(flat_list)"
   ]
  },
  {
   "attachments": {},
   "cell_type": "markdown",
   "metadata": {},
   "source": [
    "Eliminemos estos caracteres especiales de las reseñas:"
   ]
  },
  {
   "cell_type": "code",
   "execution_count": 25,
   "metadata": {},
   "outputs": [],
   "source": [
    "import re\n",
    "review_backup = amazon_reviews.reviews_text_new.copy()\n",
    "amazon_reviews.reviews_text_new = amazon_reviews.reviews_text_new.apply(lambda x: re.sub('[^A-Za-z0-9 ]+', ' ', x))"
   ]
  },
  {
   "attachments": {},
   "cell_type": "markdown",
   "metadata": {},
   "source": [
    "Podemos ver cómo cambian nuestras reseñas después de eliminar estas:"
   ]
  },
  {
   "cell_type": "code",
   "execution_count": 26,
   "metadata": {},
   "outputs": [
    {
     "name": "stdout",
     "output_type": "stream",
     "text": [
      "Old Review:\n"
     ]
    },
    {
     "data": {
      "text/plain": [
       "\"this saltwater taffy had great flavors and was very soft and chewy.  each candy was individually wrapped well.  none of the candies were stuck together, which did happen in the expensive version, fralinger's.  would highly recommend this candy!  i served it at a beach-themed party and everyone loved it!\""
      ]
     },
     "execution_count": 26,
     "metadata": {},
     "output_type": "execute_result"
    }
   ],
   "source": [
    "print(\"Old Review:\")\n",
    "review_backup.values[6]"
   ]
  },
  {
   "cell_type": "code",
   "execution_count": 27,
   "metadata": {},
   "outputs": [
    {
     "name": "stdout",
     "output_type": "stream",
     "text": [
      "New Review:\n"
     ]
    },
    {
     "data": {
      "text/plain": [
       "'this saltwater taffy had great flavors and was very soft and chewy   each candy was individually wrapped well   none of the candies were stuck together  which did happen in the expensive version  fralinger s   would highly recommend this candy   i served it at a beach themed party and everyone loved it '"
      ]
     },
     "execution_count": 27,
     "metadata": {},
     "output_type": "execute_result"
    }
   ],
   "source": [
    "print(\"New Review:\")\n",
    "amazon_reviews.reviews_text_new[6]"
   ]
  },
  {
   "attachments": {},
   "cell_type": "markdown",
   "metadata": {},
   "source": [
    "El número de tokens únicos se ha reducido aún más:"
   ]
  },
  {
   "cell_type": "code",
   "execution_count": 28,
   "metadata": {},
   "outputs": [
    {
     "name": "stdout",
     "output_type": "stream",
     "text": [
      "Numero de token unicos antes:  27509\n",
      "Numero de token unicos despues:  18039\n"
     ]
    }
   ],
   "source": [
    "token_lists = [word_tokenize(each) for each in amazon_reviews.Text]\n",
    "tokens = [item for sublist in token_lists for item in sublist]\n",
    "print(\"Numero de token unicos antes: \",len(set(tokens)))\n",
    "\n",
    "token_lists = [word_tokenize(each) for each in amazon_reviews.reviews_text_new]\n",
    "tokens = [item for sublist in token_lists for item in sublist]\n",
    "print(\"Numero de token unicos despues: \",len(set(tokens)))"
   ]
  },
  {
   "cell_type": "code",
   "execution_count": 29,
   "metadata": {},
   "outputs": [
    {
     "data": {
      "text/plain": [
       "34.42509724090298"
      ]
     },
     "execution_count": 29,
     "metadata": {},
     "output_type": "execute_result"
    }
   ],
   "source": [
    "((27509-18039)/27509)*100"
   ]
  },
  {
   "attachments": {},
   "cell_type": "markdown",
   "metadata": {},
   "source": [
    "### Stopwords y palabras de alta/baja frecuencia"
   ]
  },
  {
   "attachments": {},
   "cell_type": "markdown",
   "metadata": {},
   "source": [
    "Como se discutió anteriormente, las palabras vacías ocurren naturalmente con mucha frecuencia en el idioma inglés sin agregar ninguna idea específica del contexto. Tiene sentido eliminarlos:"
   ]
  },
  {
   "cell_type": "code",
   "execution_count": 31,
   "metadata": {},
   "outputs": [
    {
     "name": "stdout",
     "output_type": "stream",
     "text": [
      "179\n",
      "['i', 'me', 'my', 'myself', 'we', 'our', 'ours', 'ourselves', 'you', \"you're\", \"you've\", \"you'll\", \"you'd\", 'your', 'yours', 'yourself', 'yourselves', 'he', 'him', 'his', 'himself', 'she', \"she's\", 'her', 'hers', 'herself', 'it', \"it's\", 'its', 'itself', 'they', 'them', 'their', 'theirs', 'themselves', 'what', 'which', 'who', 'whom', 'this', 'that', \"that'll\", 'these', 'those', 'am', 'is', 'are', 'was', 'were', 'be', 'been', 'being', 'have', 'has', 'had', 'having', 'do', 'does', 'did', 'doing', 'a', 'an', 'the', 'and', 'but', 'if', 'or', 'because', 'as', 'until', 'while', 'of', 'at', 'by', 'for', 'with', 'about', 'against', 'between', 'into', 'through', 'during', 'before', 'after', 'above', 'below', 'to', 'from', 'up', 'down', 'in', 'out', 'on', 'off', 'over', 'under', 'again', 'further', 'then', 'once', 'here', 'there', 'when', 'where', 'why', 'how', 'all', 'any', 'both', 'each', 'few', 'more', 'most', 'other', 'some', 'such', 'no', 'nor', 'not', 'only', 'own', 'same', 'so', 'than', 'too', 'very', 's', 't', 'can', 'will', 'just', 'don', \"don't\", 'should', \"should've\", 'now', 'd', 'll', 'm', 'o', 're', 've', 'y', 'ain', 'aren', \"aren't\", 'couldn', \"couldn't\", 'didn', \"didn't\", 'doesn', \"doesn't\", 'hadn', \"hadn't\", 'hasn', \"hasn't\", 'haven', \"haven't\", 'isn', \"isn't\", 'ma', 'mightn', \"mightn't\", 'mustn', \"mustn't\", 'needn', \"needn't\", 'shan', \"shan't\", 'shouldn', \"shouldn't\", 'wasn', \"wasn't\", 'weren', \"weren't\", 'won', \"won't\", 'wouldn', \"wouldn't\"]\n"
     ]
    }
   ],
   "source": [
    "stopwords_corpus = nltk.corpus.stopwords\n",
    "print(len(stopwords_corpus.words('english')))\n",
    "print(stopwords_corpus.words('english'))"
   ]
  },
  {
   "cell_type": "code",
   "execution_count": 35,
   "metadata": {},
   "outputs": [
    {
     "data": {
      "text/plain": [
       "['i', 'me', 'my', 'myself', 'we', 'our', 'ours', 'ourselves', 'you', \"you're\"]"
      ]
     },
     "execution_count": 35,
     "metadata": {},
     "output_type": "execute_result"
    }
   ],
   "source": [
    "noise_words = []\n",
    "stopwords_corpus = nltk.corpus.stopwords\n",
    "eng_stop_words = stopwords_corpus.words('english')\n",
    "noise_words.extend(eng_stop_words)\n",
    "noise_words[0:10]"
   ]
  },
  {
   "cell_type": "code",
   "execution_count": 63,
   "metadata": {},
   "outputs": [
    {
     "data": {
      "text/plain": [
       "179"
      ]
     },
     "execution_count": 63,
     "metadata": {},
     "output_type": "execute_result"
    }
   ],
   "source": [
    "len(noise_words)"
   ]
  },
  {
   "attachments": {},
   "cell_type": "markdown",
   "metadata": {},
   "source": [
    "### Ejercicio 3\n",
    "\n",
    "Encuentre las palabras de alta y baja frecuencia, que definiremos como el 1 % de las palabras que aparecen con más frecuencia en las reseñas, así como definir el 1 % de las palabras que aparecen con menos frecuencia en las reseñas (después de ajustar por mayúsculas y minúsculas). caracteres especiales)."
   ]
  },
  {
   "cell_type": "code",
   "execution_count": 72,
   "metadata": {},
   "outputs": [
    {
     "data": {
      "text/plain": [
       "710516"
      ]
     },
     "execution_count": 72,
     "metadata": {},
     "output_type": "execute_result"
    }
   ],
   "source": [
    "len(tokens)"
   ]
  },
  {
   "cell_type": "code",
   "execution_count": 32,
   "metadata": {},
   "outputs": [
    {
     "data": {
      "text/plain": [
       "[('the', 28122),\n",
       " ('i', 25705),\n",
       " ('and', 19980),\n",
       " ('a', 18505),\n",
       " ('it', 16143),\n",
       " ('to', 15137),\n",
       " ('of', 12067),\n",
       " ('is', 11063),\n",
       " ('this', 10530),\n",
       " ('br', 9361),\n",
       " ('for', 8233),\n",
       " ('in', 7940),\n",
       " ('my', 6786),\n",
       " ('that', 6494),\n",
       " ('you', 5662),\n",
       " ('with', 5605),\n",
       " ('but', 5450),\n",
       " ('have', 5292),\n",
       " ('not', 5106),\n",
       " ('are', 4919)]"
      ]
     },
     "execution_count": 32,
     "metadata": {},
     "output_type": "execute_result"
    }
   ],
   "source": [
    "one_percentile = int(len(set(tokens)) * 0.01)\n",
    "top_1_percentile = Counter(tokens).most_common(one_percentile)\n",
    "top_1_percentile[:20]"
   ]
  },
  {
   "cell_type": "code",
   "execution_count": 33,
   "metadata": {},
   "outputs": [
    {
     "data": {
      "text/plain": [
       "[('pruchase', 1),\n",
       " ('slick', 1),\n",
       " ('cloured', 1),\n",
       " ('innocuous', 1),\n",
       " ('espensive', 1),\n",
       " ('marketer', 1),\n",
       " ('strofoam', 1),\n",
       " ('destroyers', 1),\n",
       " ('ruth', 1),\n",
       " ('gleaning', 1),\n",
       " ('fantasies', 1),\n",
       " ('unexpexctedly', 1),\n",
       " ('emporium', 1),\n",
       " ('calmatives', 1),\n",
       " ('relievers', 1),\n",
       " ('custumers', 1),\n",
       " ('molases', 1),\n",
       " ('0303', 1),\n",
       " ('explination', 1),\n",
       " ('ethel', 1)]"
      ]
     },
     "execution_count": 33,
     "metadata": {},
     "output_type": "execute_result"
    }
   ],
   "source": [
    "bottom_1_percentile = Counter(tokens).most_common()[-one_percentile:]\n",
    "bottom_1_percentile[:20]"
   ]
  },
  {
   "cell_type": "code",
   "execution_count": 36,
   "metadata": {
    "scrolled": false
   },
   "outputs": [],
   "source": [
    "noise_words.extend([word for word,val in top_1_percentile])\n",
    "noise_words.extend([word for word,val in bottom_1_percentile])"
   ]
  },
  {
   "cell_type": "code",
   "execution_count": 39,
   "metadata": {},
   "outputs": [
    {
     "data": {
      "text/plain": [
       "453"
      ]
     },
     "execution_count": 39,
     "metadata": {},
     "output_type": "execute_result"
    }
   ],
   "source": [
    "len(list(set(noise_words)))"
   ]
  },
  {
   "attachments": {},
   "cell_type": "markdown",
   "metadata": {},
   "source": [
    "Ahora se han agregado palabras vacías y palabras de alta/baja frecuencia a `noise_words`, que se eliminarán de las revisiones antes de entrenar modelos de aprendizaje automático."
   ]
  },
  {
   "cell_type": "markdown",
   "metadata": {},
   "source": [
    "$$\\color{red}{\\text{Vamos por aqui!!!!!}}$$"
   ]
  },
  {
   "attachments": {},
   "cell_type": "markdown",
   "metadata": {},
   "source": [
    "### Stemming & lemmatizacion"
   ]
  },
  {
   "attachments": {},
   "cell_type": "markdown",
   "metadata": {},
   "source": [
    "Ahora estamos listos para la última parte de nuestro procesamiento previo: **lematización y stemming**.\n",
    "\n",
    "Las diferentes formas de una palabra a menudo comunican esencialmente el mismo significado. Por ejemplo, probablemente no haya diferencia en la intención entre una búsqueda de \"zapato\" y una búsqueda de \"zapatos\". La misma palabra también puede aparecer en diferentes tiempos; p.ej. \"correr\", \"corres\" y \"corriendo\". Estas diferencias sintácticas entre las formas de las palabras se llaman **inflexiones**. En general, probablemente queramos tratar las inflexiones de manera idéntica cuando destacamos nuestro texto.\n",
    "\n",
    "A veces, este proceso es casi reversible y bastante seguro (por ejemplo, reemplazar los verbos con su infinitivo, de modo que \"run\", \"runs\" y \"running\" se conviertan en \"run\"). Otras veces es un poco peligroso y depende del contexto (por ejemplo, reemplazar los superlativos con su forma base, de modo que \"bueno\", \"mejor\" y \"mejor\" se conviertan en \"bueno\"). Cuanto más agresivo sea, mayores serán las posibles recompensas y riesgos. Para un ejemplo muy agresivo, puede elegir reemplazar \"Zeus\" y \"Júpiter\" solo con \"Zeus\"; esto podría estar bien si está resumiendo mitos, confuso si está trabajando en astronomía y desastroso si está trabajando en mitología comparada.\n",
    "\n",
    "No entraremos en los detalles de las diferencias entre lematización, stemming y otros tipos de normalización de texto aquí, pero se puede encontrar una introducción cuidadosa en: https://nlp.stanford.edu/IR-book/html/htmledition/stemming-and-lemmatization-1.html.\n",
    "\n"
   ]
  },
  {
   "cell_type": "code",
   "execution_count": 41,
   "metadata": {},
   "outputs": [
    {
     "name": "stderr",
     "output_type": "stream",
     "text": [
      "[nltk_data] Downloading package wordnet to\n",
      "[nltk_data]     C:\\Users\\Windows\\AppData\\Roaming\\nltk_data...\n",
      "[nltk_data]   Package wordnet is already up-to-date!\n"
     ]
    }
   ],
   "source": [
    "from nltk.stem import PorterStemmer, WordNetLemmatizer, LancasterStemmer\n",
    "nltk.download('wordnet')\n",
    "from nltk.corpus import wordnet\n",
    "\n",
    "porter = PorterStemmer()\n",
    "lancaster = LancasterStemmer()\n",
    "lemmatizer = WordNetLemmatizer()"
   ]
  },
  {
   "attachments": {},
   "cell_type": "markdown",
   "metadata": {},
   "source": [
    "**Algoritmos de Stemming** trabajan cortando el final o el principio de la palabra, teniendo en cuenta una lista de prefijos y sufijos comunes que se pueden encontrar.\n",
    "\n",
    "Por otro lado, la **lematización** toma en consideración el análisis morfológico de las palabras. Por lo tanto, la lematización tiene en cuenta la gramática de la palabra e intenta encontrar la palabra raíz en lugar de simplemente llegar a la palabra raíz mediante métodos de fuerza bruta."
   ]
  },
  {
   "cell_type": "code",
   "execution_count": 42,
   "metadata": {},
   "outputs": [
    {
     "name": "stdout",
     "output_type": "stream",
     "text": [
      "Lancaster Stemmer\n",
      "troubl\n",
      "troubl\n",
      "troubl\n",
      "WordNet Lemmatizer\n",
      "trouble\n",
      "trouble\n",
      "trouble\n"
     ]
    }
   ],
   "source": [
    "print(\"Lancaster Stemmer\")\n",
    "print(lancaster.stem(\"trouble\"))\n",
    "print(lancaster.stem(\"troubling\"))\n",
    "print(lancaster.stem(\"troubled\"))\n",
    "\n",
    "# Otro metodo\n",
    "print(\"WordNet Lemmatizer\")\n",
    "print(lemmatizer.lemmatize(\"trouble\", wordnet.NOUN))\n",
    "print(lemmatizer.lemmatize(\"troubling\", wordnet.VERB))\n",
    "print(lemmatizer.lemmatize(\"troubled\", wordnet.VERB))"
   ]
  },
  {
   "attachments": {},
   "cell_type": "markdown",
   "metadata": {},
   "source": [
    "Se puede ver que obtenemos una raíz de significado de Lemmatizer, mientras que Stemmer simplemente recorta y extrae la primera parte importante de la palabra."
   ]
  },
  {
   "attachments": {},
   "cell_type": "markdown",
   "metadata": {},
   "source": [
    "## Creando el modelo ML"
   ]
  },
  {
   "attachments": {},
   "cell_type": "markdown",
   "metadata": {},
   "source": [
    "Ahora tenemos versiones limpias de dos datos muy importantes: el texto de revisión real y su calificación de sentimiento correspondiente:"
   ]
  },
  {
   "cell_type": "code",
   "execution_count": 43,
   "metadata": {},
   "outputs": [
    {
     "data": {
      "text/html": [
       "<div>\n",
       "<style scoped>\n",
       "    .dataframe tbody tr th:only-of-type {\n",
       "        vertical-align: middle;\n",
       "    }\n",
       "\n",
       "    .dataframe tbody tr th {\n",
       "        vertical-align: top;\n",
       "    }\n",
       "\n",
       "    .dataframe thead th {\n",
       "        text-align: right;\n",
       "    }\n",
       "</style>\n",
       "<table border=\"1\" class=\"dataframe\">\n",
       "  <thead>\n",
       "    <tr style=\"text-align: right;\">\n",
       "      <th></th>\n",
       "      <th>Text</th>\n",
       "      <th>Score</th>\n",
       "      <th>Sentiment_rating</th>\n",
       "      <th>reviews_text_new</th>\n",
       "    </tr>\n",
       "  </thead>\n",
       "  <tbody>\n",
       "    <tr>\n",
       "      <th>0</th>\n",
       "      <td>I have bought several of the Vitality canned d...</td>\n",
       "      <td>5</td>\n",
       "      <td>1</td>\n",
       "      <td>i have bought several of the vitality canned d...</td>\n",
       "    </tr>\n",
       "    <tr>\n",
       "      <th>1</th>\n",
       "      <td>Product arrived labeled as Jumbo Salted Peanut...</td>\n",
       "      <td>1</td>\n",
       "      <td>0</td>\n",
       "      <td>product arrived labeled as jumbo salted peanut...</td>\n",
       "    </tr>\n",
       "    <tr>\n",
       "      <th>2</th>\n",
       "      <td>This is a confection that has been around a fe...</td>\n",
       "      <td>4</td>\n",
       "      <td>1</td>\n",
       "      <td>this is a confection that has been around a fe...</td>\n",
       "    </tr>\n",
       "    <tr>\n",
       "      <th>3</th>\n",
       "      <td>If you are looking for the secret ingredient i...</td>\n",
       "      <td>2</td>\n",
       "      <td>0</td>\n",
       "      <td>if you are looking for the secret ingredient i...</td>\n",
       "    </tr>\n",
       "    <tr>\n",
       "      <th>4</th>\n",
       "      <td>Great taffy at a great price.  There was a wid...</td>\n",
       "      <td>5</td>\n",
       "      <td>1</td>\n",
       "      <td>great taffy at a great price   there was a wid...</td>\n",
       "    </tr>\n",
       "  </tbody>\n",
       "</table>\n",
       "</div>"
      ],
      "text/plain": [
       "                                                Text  Score  Sentiment_rating  \\\n",
       "0  I have bought several of the Vitality canned d...      5                 1   \n",
       "1  Product arrived labeled as Jumbo Salted Peanut...      1                 0   \n",
       "2  This is a confection that has been around a fe...      4                 1   \n",
       "3  If you are looking for the secret ingredient i...      2                 0   \n",
       "4  Great taffy at a great price.  There was a wid...      5                 1   \n",
       "\n",
       "                                    reviews_text_new  \n",
       "0  i have bought several of the vitality canned d...  \n",
       "1  product arrived labeled as jumbo salted peanut...  \n",
       "2  this is a confection that has been around a fe...  \n",
       "3  if you are looking for the secret ingredient i...  \n",
       "4  great taffy at a great price   there was a wid...  "
      ]
     },
     "execution_count": 43,
     "metadata": {},
     "output_type": "execute_result"
    }
   ],
   "source": [
    "amazon_reviews[['Text','Score','Sentiment_rating','reviews_text_new']].head(5)"
   ]
  },
  {
   "attachments": {},
   "cell_type": "markdown",
   "metadata": {},
   "source": [
    "Las variables independientes o características del modelo se derivan del texto de revisión. Previamente, discutimos cómo podemos usar n-gramas para crear características, y específicamente cómo la bolsa de palabras es la interpretación más simple de estos n-gramas, sin tener en cuenta el orden y el contexto por completo y solo enfocándonos en la frecuencia/recuento. Usemos eso como punto de partida."
   ]
  },
  {
   "attachments": {},
   "cell_type": "markdown",
   "metadata": {},
   "source": [
    "### Bag-of-words\n"
   ]
  },
  {
   "attachments": {},
   "cell_type": "markdown",
   "metadata": {},
   "source": [
    "`CountVectorizer` es una clase de Python que da cuenta automáticamente de ciertos pasos de preprocesamiento, como la eliminación de palabras vacías, la stemming, la creación de n-gramas y la tokenización de palabras:"
   ]
  },
  {
   "cell_type": "code",
   "execution_count": 45,
   "metadata": {},
   "outputs": [
    {
     "data": {
      "text/plain": [
       "'\\nfrom nltk.stem import PorterStemmer\\nstemmer = PorterStemmer()\\nanalyzer = CountVectorizer().build_analyzer()\\n\\ndef stemmed_words(doc):\\n    return (stemmer.stem(w) for w in analyzer(doc))\\n'"
      ]
     },
     "execution_count": 45,
     "metadata": {},
     "output_type": "execute_result"
    }
   ],
   "source": [
    "### Creando el metodo para stemming\n",
    "\"\"\"\n",
    "from nltk.stem import PorterStemmer\n",
    "stemmer = PorterStemmer()\n",
    "analyzer = CountVectorizer().build_analyzer()\n",
    "\n",
    "def stemmed_words(doc):\n",
    "    return (stemmer.stem(w) for w in analyzer(doc))\n",
    "\"\"\""
   ]
  },
  {
   "attachments": {},
   "cell_type": "markdown",
   "metadata": {},
   "source": [
    "Usemos esto para crear una bolsa de palabras de las reseñas, excluyendo las palabras irrelevantes que identificamos anteriormente:"
   ]
  },
  {
   "cell_type": "code",
   "execution_count": 46,
   "metadata": {},
   "outputs": [
    {
     "name": "stderr",
     "output_type": "stream",
     "text": [
      "C:\\Users\\Windows\\AppData\\Roaming\\Python\\Python39\\site-packages\\sklearn\\feature_extraction\\text.py:528: UserWarning: The parameter 'token_pattern' will not be used since 'tokenizer' is not None'\n",
      "  warnings.warn(\n",
      "C:\\Users\\Windows\\AppData\\Roaming\\Python\\Python39\\site-packages\\sklearn\\feature_extraction\\text.py:409: UserWarning: Your stop_words may be inconsistent with your preprocessing. Tokenizing the stop words generated tokens [\"'d\", \"'ll\", \"'re\", \"'s\", \"'ve\", 'might', 'must', \"n't\", 'need', 'sha', 'wo'] not in stop_words.\n",
      "  warnings.warn(\n"
     ]
    }
   ],
   "source": [
    "###Creando un objeto python de la clase CountVectorizer\n",
    "bow_counts = CountVectorizer(tokenizer= word_tokenize, stop_words=noise_words,\n",
    "                             ngram_range=(1,1))\n",
    "\n",
    "bow_data = bow_counts.fit_transform(amazon_reviews.reviews_text_new)"
   ]
  },
  {
   "cell_type": "code",
   "execution_count": 47,
   "metadata": {},
   "outputs": [
    {
     "data": {
      "text/plain": [
       "scipy.sparse._csr.csr_matrix"
      ]
     },
     "execution_count": 47,
     "metadata": {},
     "output_type": "execute_result"
    }
   ],
   "source": [
    "type(bow_data)"
   ]
  },
  {
   "cell_type": "code",
   "execution_count": 48,
   "metadata": {},
   "outputs": [
    {
     "data": {
      "text/plain": [
       "<9138x17616 sparse matrix of type '<class 'numpy.int64'>'\n",
       "\twith 218332 stored elements in Compressed Sparse Row format>"
      ]
     },
     "execution_count": 48,
     "metadata": {},
     "output_type": "execute_result"
    }
   ],
   "source": [
    "bow_data"
   ]
  },
  {
   "attachments": {},
   "cell_type": "markdown",
   "metadata": {},
   "source": [
    "Una vez que se prepara la bolsa de palabras, el conjunto de datos debe dividirse en conjuntos de entrenamiento y prueba:"
   ]
  },
  {
   "cell_type": "code",
   "execution_count": 49,
   "metadata": {},
   "outputs": [],
   "source": [
    "X_train_bow, X_test_bow, y_train_bow, y_test_bow =  \\\n",
    "                            train_test_split(bow_data,amazon_reviews.Sentiment_rating,test_size = 0.2,random_state = 0)"
   ]
  },
  {
   "cell_type": "code",
   "execution_count": 50,
   "metadata": {},
   "outputs": [
    {
     "data": {
      "text/plain": [
       "Sentiment_rating\n",
       "1    0.847921\n",
       "0    0.152079\n",
       "Name: count, dtype: float64"
      ]
     },
     "execution_count": 50,
     "metadata": {},
     "output_type": "execute_result"
    }
   ],
   "source": [
    "y_test_bow.value_counts()/y_test_bow.shape[0]"
   ]
  },
  {
   "attachments": {},
   "cell_type": "markdown",
   "metadata": {},
   "source": [
    "Los datos de prueba contienen 84% de opiniones positivas. Entonces, si tuviéramos que clasificar ingenuamente todas las reseñas como positivas, nuestro modelo lograría una precisión del 84 %. Por lo tanto, esta es la línea de base que debe superar cualquier modelo que creemos."
   ]
  },
  {
   "attachments": {},
   "cell_type": "markdown",
   "metadata": {},
   "source": [
    "### Modelo de regresion logistica"
   ]
  },
  {
   "attachments": {},
   "cell_type": "markdown",
   "metadata": {},
   "source": [
    "Entrenemos el modelo en nuestros datos de entrenamiento y ejecutemos el modelo resultante en nuestros datos de prueba:"
   ]
  },
  {
   "cell_type": "code",
   "execution_count": 51,
   "metadata": {},
   "outputs": [
    {
     "data": {
      "text/html": [
       "<style>#sk-container-id-1 {color: black;background-color: white;}#sk-container-id-1 pre{padding: 0;}#sk-container-id-1 div.sk-toggleable {background-color: white;}#sk-container-id-1 label.sk-toggleable__label {cursor: pointer;display: block;width: 100%;margin-bottom: 0;padding: 0.3em;box-sizing: border-box;text-align: center;}#sk-container-id-1 label.sk-toggleable__label-arrow:before {content: \"▸\";float: left;margin-right: 0.25em;color: #696969;}#sk-container-id-1 label.sk-toggleable__label-arrow:hover:before {color: black;}#sk-container-id-1 div.sk-estimator:hover label.sk-toggleable__label-arrow:before {color: black;}#sk-container-id-1 div.sk-toggleable__content {max-height: 0;max-width: 0;overflow: hidden;text-align: left;background-color: #f0f8ff;}#sk-container-id-1 div.sk-toggleable__content pre {margin: 0.2em;color: black;border-radius: 0.25em;background-color: #f0f8ff;}#sk-container-id-1 input.sk-toggleable__control:checked~div.sk-toggleable__content {max-height: 200px;max-width: 100%;overflow: auto;}#sk-container-id-1 input.sk-toggleable__control:checked~label.sk-toggleable__label-arrow:before {content: \"▾\";}#sk-container-id-1 div.sk-estimator input.sk-toggleable__control:checked~label.sk-toggleable__label {background-color: #d4ebff;}#sk-container-id-1 div.sk-label input.sk-toggleable__control:checked~label.sk-toggleable__label {background-color: #d4ebff;}#sk-container-id-1 input.sk-hidden--visually {border: 0;clip: rect(1px 1px 1px 1px);clip: rect(1px, 1px, 1px, 1px);height: 1px;margin: -1px;overflow: hidden;padding: 0;position: absolute;width: 1px;}#sk-container-id-1 div.sk-estimator {font-family: monospace;background-color: #f0f8ff;border: 1px dotted black;border-radius: 0.25em;box-sizing: border-box;margin-bottom: 0.5em;}#sk-container-id-1 div.sk-estimator:hover {background-color: #d4ebff;}#sk-container-id-1 div.sk-parallel-item::after {content: \"\";width: 100%;border-bottom: 1px solid gray;flex-grow: 1;}#sk-container-id-1 div.sk-label:hover label.sk-toggleable__label {background-color: #d4ebff;}#sk-container-id-1 div.sk-serial::before {content: \"\";position: absolute;border-left: 1px solid gray;box-sizing: border-box;top: 0;bottom: 0;left: 50%;z-index: 0;}#sk-container-id-1 div.sk-serial {display: flex;flex-direction: column;align-items: center;background-color: white;padding-right: 0.2em;padding-left: 0.2em;position: relative;}#sk-container-id-1 div.sk-item {position: relative;z-index: 1;}#sk-container-id-1 div.sk-parallel {display: flex;align-items: stretch;justify-content: center;background-color: white;position: relative;}#sk-container-id-1 div.sk-item::before, #sk-container-id-1 div.sk-parallel-item::before {content: \"\";position: absolute;border-left: 1px solid gray;box-sizing: border-box;top: 0;bottom: 0;left: 50%;z-index: -1;}#sk-container-id-1 div.sk-parallel-item {display: flex;flex-direction: column;z-index: 1;position: relative;background-color: white;}#sk-container-id-1 div.sk-parallel-item:first-child::after {align-self: flex-end;width: 50%;}#sk-container-id-1 div.sk-parallel-item:last-child::after {align-self: flex-start;width: 50%;}#sk-container-id-1 div.sk-parallel-item:only-child::after {width: 0;}#sk-container-id-1 div.sk-dashed-wrapped {border: 1px dashed gray;margin: 0 0.4em 0.5em 0.4em;box-sizing: border-box;padding-bottom: 0.4em;background-color: white;}#sk-container-id-1 div.sk-label label {font-family: monospace;font-weight: bold;display: inline-block;line-height: 1.2em;}#sk-container-id-1 div.sk-label-container {text-align: center;}#sk-container-id-1 div.sk-container {/* jupyter's `normalize.less` sets `[hidden] { display: none; }` but bootstrap.min.css set `[hidden] { display: none !important; }` so we also need the `!important` here to be able to override the default hidden behavior on the sphinx rendered scikit-learn.org. See: https://github.com/scikit-learn/scikit-learn/issues/21755 */display: inline-block !important;position: relative;}#sk-container-id-1 div.sk-text-repr-fallback {display: none;}</style><div id=\"sk-container-id-1\" class=\"sk-top-container\"><div class=\"sk-text-repr-fallback\"><pre>LogisticRegression(C=1)</pre><b>In a Jupyter environment, please rerun this cell to show the HTML representation or trust the notebook. <br />On GitHub, the HTML representation is unable to render, please try loading this page with nbviewer.org.</b></div><div class=\"sk-container\" hidden><div class=\"sk-item\"><div class=\"sk-estimator sk-toggleable\"><input class=\"sk-toggleable__control sk-hidden--visually\" id=\"sk-estimator-id-1\" type=\"checkbox\" checked><label for=\"sk-estimator-id-1\" class=\"sk-toggleable__label sk-toggleable__label-arrow\">LogisticRegression</label><div class=\"sk-toggleable__content\"><pre>LogisticRegression(C=1)</pre></div></div></div></div></div>"
      ],
      "text/plain": [
       "LogisticRegression(C=1)"
      ]
     },
     "execution_count": 51,
     "metadata": {},
     "output_type": "execute_result"
    }
   ],
   "source": [
    "### Entrenando el modelo\n",
    "lr_model_all = LogisticRegression(C = 1)\n",
    "lr_model_all.fit(X_train_bow,y_train_bow)"
   ]
  },
  {
   "cell_type": "code",
   "execution_count": 52,
   "metadata": {},
   "outputs": [
    {
     "name": "stdout",
     "output_type": "stream",
     "text": [
      "F1 score:  0.942550505050505\n",
      "Accuracy:  90.04376367614879\n"
     ]
    }
   ],
   "source": [
    "## Prediccion\n",
    "test_pred_lr_prob = lr_model_all.predict_proba(X_test_bow)\n",
    "test_pred_lr_all = lr_model_all.predict(X_test_bow)\n",
    "\n",
    "print(\"F1 score: \",f1_score(y_test_bow,test_pred_lr_all))\n",
    "print(\"Accuracy: \", accuracy_score(y_test_bow,test_pred_lr_all)* 100)"
   ]
  },
  {
   "cell_type": "code",
   "execution_count": 53,
   "metadata": {},
   "outputs": [
    {
     "data": {
      "text/plain": [
       "array([0, 1, 1, ..., 1, 0, 1])"
      ]
     },
     "execution_count": 53,
     "metadata": {},
     "output_type": "execute_result"
    }
   ],
   "source": [
    "test_pred_lr_all "
   ]
  },
  {
   "cell_type": "code",
   "execution_count": 56,
   "metadata": {},
   "outputs": [],
   "source": [
    "prob = [each[1] for each in test_pred_lr_prob]"
   ]
  },
  {
   "cell_type": "code",
   "execution_count": 56,
   "metadata": {},
   "outputs": [
    {
     "data": {
      "text/plain": [
       "array([ 2636,  7060,  6657, ..., 15810,  2669,  5747])"
      ]
     },
     "execution_count": 56,
     "metadata": {},
     "output_type": "execute_result"
    }
   ],
   "source": [
    "X_test_bow.indices"
   ]
  },
  {
   "cell_type": "code",
   "execution_count": 57,
   "metadata": {},
   "outputs": [],
   "source": [
    "prob = [each[1] for each in test_pred_lr_prob]\n",
    "\n",
    "predictions = pd.DataFrame(list(zip(amazon_reviews[amazon_reviews.index.isin(X_test_bow.indices)].Text.values,\n",
    "                             amazon_reviews[amazon_reviews.index.isin(X_test_bow.indices)].Score.values,\n",
    "                             test_pred_lr_all,\n",
    "                             prob)),\n",
    "                            columns = ['Review','Actual_Score','Predicted_Sentiment','Predicted_probability'])"
   ]
  },
  {
   "cell_type": "code",
   "execution_count": 58,
   "metadata": {},
   "outputs": [
    {
     "data": {
      "text/html": [
       "<div>\n",
       "<style scoped>\n",
       "    .dataframe tbody tr th:only-of-type {\n",
       "        vertical-align: middle;\n",
       "    }\n",
       "\n",
       "    .dataframe tbody tr th {\n",
       "        vertical-align: top;\n",
       "    }\n",
       "\n",
       "    .dataframe thead th {\n",
       "        text-align: right;\n",
       "    }\n",
       "</style>\n",
       "<table border=\"1\" class=\"dataframe\">\n",
       "  <thead>\n",
       "    <tr style=\"text-align: right;\">\n",
       "      <th></th>\n",
       "      <th>Review</th>\n",
       "      <th>Actual_Score</th>\n",
       "      <th>Predicted_Sentiment</th>\n",
       "      <th>Predicted_probability</th>\n",
       "    </tr>\n",
       "  </thead>\n",
       "  <tbody>\n",
       "    <tr>\n",
       "      <th>1818</th>\n",
       "      <td>On an untypically cool August evening we decid...</td>\n",
       "      <td>4</td>\n",
       "      <td>1</td>\n",
       "      <td>0.922605</td>\n",
       "    </tr>\n",
       "    <tr>\n",
       "      <th>1819</th>\n",
       "      <td>Riviera Sunset Decaffinated Coffee, from the M...</td>\n",
       "      <td>4</td>\n",
       "      <td>1</td>\n",
       "      <td>0.869825</td>\n",
       "    </tr>\n",
       "    <tr>\n",
       "      <th>1820</th>\n",
       "      <td>I have had to cut back on caffeine recently be...</td>\n",
       "      <td>4</td>\n",
       "      <td>1</td>\n",
       "      <td>0.996506</td>\n",
       "    </tr>\n",
       "    <tr>\n",
       "      <th>1821</th>\n",
       "      <td>Hands down, by far the absolute worst tasting ...</td>\n",
       "      <td>4</td>\n",
       "      <td>1</td>\n",
       "      <td>0.994732</td>\n",
       "    </tr>\n",
       "    <tr>\n",
       "      <th>1822</th>\n",
       "      <td>I love this brand of Dandelion Root tea.  The ...</td>\n",
       "      <td>5</td>\n",
       "      <td>1</td>\n",
       "      <td>0.984511</td>\n",
       "    </tr>\n",
       "    <tr>\n",
       "      <th>1823</th>\n",
       "      <td>Reveived my item fast! It was exactly what I o...</td>\n",
       "      <td>5</td>\n",
       "      <td>0</td>\n",
       "      <td>0.010684</td>\n",
       "    </tr>\n",
       "    <tr>\n",
       "      <th>1824</th>\n",
       "      <td>I drink this tea every day (I'm 7 months pregn...</td>\n",
       "      <td>5</td>\n",
       "      <td>1</td>\n",
       "      <td>0.766269</td>\n",
       "    </tr>\n",
       "    <tr>\n",
       "      <th>1825</th>\n",
       "      <td>I was pleasantly surprised by the stronger tha...</td>\n",
       "      <td>5</td>\n",
       "      <td>1</td>\n",
       "      <td>0.999875</td>\n",
       "    </tr>\n",
       "    <tr>\n",
       "      <th>1826</th>\n",
       "      <td>First, let me state that I brew most of my tea...</td>\n",
       "      <td>2</td>\n",
       "      <td>0</td>\n",
       "      <td>0.003331</td>\n",
       "    </tr>\n",
       "    <tr>\n",
       "      <th>1827</th>\n",
       "      <td>I love this tea!  Both the green and white var...</td>\n",
       "      <td>5</td>\n",
       "      <td>1</td>\n",
       "      <td>0.909839</td>\n",
       "    </tr>\n",
       "  </tbody>\n",
       "</table>\n",
       "</div>"
      ],
      "text/plain": [
       "                                                 Review  Actual_Score  \\\n",
       "1818  On an untypically cool August evening we decid...             4   \n",
       "1819  Riviera Sunset Decaffinated Coffee, from the M...             4   \n",
       "1820  I have had to cut back on caffeine recently be...             4   \n",
       "1821  Hands down, by far the absolute worst tasting ...             4   \n",
       "1822  I love this brand of Dandelion Root tea.  The ...             5   \n",
       "1823  Reveived my item fast! It was exactly what I o...             5   \n",
       "1824  I drink this tea every day (I'm 7 months pregn...             5   \n",
       "1825  I was pleasantly surprised by the stronger tha...             5   \n",
       "1826  First, let me state that I brew most of my tea...             2   \n",
       "1827  I love this tea!  Both the green and white var...             5   \n",
       "\n",
       "      Predicted_Sentiment  Predicted_probability  \n",
       "1818                    1               0.922605  \n",
       "1819                    1               0.869825  \n",
       "1820                    1               0.996506  \n",
       "1821                    1               0.994732  \n",
       "1822                    1               0.984511  \n",
       "1823                    0               0.010684  \n",
       "1824                    1               0.766269  \n",
       "1825                    1               0.999875  \n",
       "1826                    0               0.003331  \n",
       "1827                    1               0.909839  "
      ]
     },
     "execution_count": 58,
     "metadata": {},
     "output_type": "execute_result"
    }
   ],
   "source": [
    "predictions.tail(10)"
   ]
  },
  {
   "attachments": {},
   "cell_type": "markdown",
   "metadata": {},
   "source": [
    "### Ejercicio 4\n",
    "\n",
    "Mire las tres revisiones para las que el modelo predijo las puntuaciones más bajas y vea si se pronosticaron correctamente. Si no, explique por qué se pronosticaron incorrectamente."
   ]
  },
  {
   "cell_type": "code",
   "execution_count": 59,
   "metadata": {},
   "outputs": [
    {
     "data": {
      "text/plain": [
       "array([['This is by far the best K-cup hot cocoa we have tried.  It has a nice rich flavor and with the added convenience of a K-cup, it is easy to have a cup anytime you like. Highly recommend!',\n",
       "        5, 0, 4.1843650409454585e-06],\n",
       "       [\"I've been told that the refrigerator of the future will have herb/vegetable/salad bins inside to grow vegetables and I thought the Prepara Herb Savor Pod looked like the perfect precursor. Wrong. The detachable bottom comes loose continually and leaks water everywhere. Similarly, the plastic plug at the back does NOT hold. A good idea, a nice-looking product, but poorly executed. Refrain from purchasing -- plastic bags are MUCH, much better.\",\n",
       "        1, 0, 4.3781418321944514e-06],\n",
       "       [\"This has been my favorite brand of coconut water of the ones I've tried. They use real fruit juice for flavoring, as well as it tastes good.<br /><br />We tried the smaller size, and they just aren't large enough to get enough water at the gym, and are not resealable.<br /><br />Things I like about this:<br /><br />* Perfect size for an hour long gym routine<br />* Resealable cap(smaller one lacks this)<br />* Tasty (Like a pina colada)<br /><br />Negative<br /><br />* Box makes it hard to get the last drops- usually end up squishing it up to get the last bit<br /><br />So great coconut water, perfect size, and cheaper than buying locally at sprouts with the Amazon's 'subscribe and save'!\",\n",
       "        5, 0, 4.536900646560481e-05]], dtype=object)"
      ]
     },
     "execution_count": 59,
     "metadata": {},
     "output_type": "execute_result"
    }
   ],
   "source": [
    "predictions.sort_values(['Predicted_probability'], ascending = True)[:3].values"
   ]
  },
  {
   "attachments": {},
   "cell_type": "markdown",
   "metadata": {},
   "source": [
    "La primera y la tercera revisión se predijeron incorrectamente. No está claro por qué la primera reseña obtuvo una mala puntuación (no hay palabras negativas obvias allí), pero la tercera reseña tiene varias palabras negativas como \"no son\", \"no\", \"falta\", \"negativo\". \", a pesar de que en contexto estas palabras no significan mucho. Claramente, presentar nuestro texto con 1-grams no puede capturar el contexto general de las reseñas."
   ]
  },
  {
   "attachments": {},
   "cell_type": "markdown",
   "metadata": {},
   "source": [
    "### Ejercicio 5\n",
    "\n",
    "Modifique el conjunto de características en el modelo para incluir bigramas, trigramas y 4-gramas. No elimine las palabras irrelevantes definidas anteriormente antes de presentarlas. (Ayuda: pon `ngram_range=(1,4)`.)"
   ]
  },
  {
   "cell_type": "code",
   "execution_count": 59,
   "metadata": {},
   "outputs": [
    {
     "name": "stderr",
     "output_type": "stream",
     "text": [
      "C:\\Users\\Windows\\AppData\\Roaming\\Python\\Python39\\site-packages\\sklearn\\feature_extraction\\text.py:528: UserWarning: The parameter 'token_pattern' will not be used since 'tokenizer' is not None'\n",
      "  warnings.warn(\n",
      "C:\\Users\\Windows\\AppData\\Roaming\\Python\\Python39\\site-packages\\sklearn\\feature_extraction\\text.py:409: UserWarning: Your stop_words may be inconsistent with your preprocessing. Tokenizing the stop words generated tokens [\"'d\", \"'ll\", \"'re\", \"'s\", \"'ve\", 'might', 'must', \"n't\", 'need', 'sha', 'wo'] not in stop_words.\n",
      "  warnings.warn(\n"
     ]
    }
   ],
   "source": [
    "### Cambios con respecto al código anterior\n",
    "### 1. Aumentar los n-gramas de solo tener 1 gramo a (1 gramo, 2 gramos, 3 gramos y 4 gramos)\n",
    "### 2. Incluir las palabras vacías en la bolsa de características de las palabras\n",
    "\n",
    "bow_counts = CountVectorizer(tokenizer= word_tokenize,stop_words=noise_words,\n",
    "                             ngram_range=(1,4))\n",
    "\n",
    "bow_data = bow_counts.fit_transform(amazon_reviews.reviews_text_new)"
   ]
  },
  {
   "cell_type": "code",
   "execution_count": 60,
   "metadata": {},
   "outputs": [
    {
     "data": {
      "text/plain": [
       "<9138x631193 sparse matrix of type '<class 'numpy.int64'>'\n",
       "\twith 904584 stored elements in Compressed Sparse Row format>"
      ]
     },
     "execution_count": 60,
     "metadata": {},
     "output_type": "execute_result"
    }
   ],
   "source": [
    "# Observe el aumento de funciones con la inclusión de palabras vacías\n",
    "bow_data"
   ]
  },
  {
   "cell_type": "code",
   "execution_count": 61,
   "metadata": {},
   "outputs": [],
   "source": [
    "X_train_bow, X_test_bow, y_train_bow, y_test_bow =  \\\n",
    "                            train_test_split(bow_data,amazon_reviews.Sentiment_rating,test_size = 0.2,random_state = 0)"
   ]
  },
  {
   "cell_type": "code",
   "execution_count": 62,
   "metadata": {},
   "outputs": [],
   "source": [
    "### Cambios en la regresión logística\n",
    "### Cambiando el parámetro de costo C para que sea 0.9\n",
    "lr_model_all_new = LogisticRegression(C = 0.9, penalty= 'l2')"
   ]
  },
  {
   "cell_type": "code",
   "execution_count": 63,
   "metadata": {},
   "outputs": [
    {
     "name": "stdout",
     "output_type": "stream",
     "text": [
      "F1 score:  0.9418282548476453\n",
      "Accuracy:  89.66083150984683\n"
     ]
    }
   ],
   "source": [
    "# entrenamiento del model\n",
    "lr_model_all_new.fit(X_train_bow,y_train_bow)\n",
    "\n",
    "# Prediccion del output\n",
    "test_pred_lr_prob = lr_model_all_new.predict_proba(X_test_bow)\n",
    "test_pred_lr_all = lr_model_all_new.predict(X_test_bow)\n",
    "\n",
    "print(\"F1 score: \",f1_score(y_test_bow,test_pred_lr_all))\n",
    "print(\"Accuracy: \", accuracy_score(y_test_bow,test_pred_lr_all)* 100)"
   ]
  },
  {
   "attachments": {},
   "cell_type": "markdown",
   "metadata": {},
   "source": [
    "La precisión ha saltado del 90% al 91,8%. Este es un ejemplo de lo que el simple ajuste de hiperparámetros y la modificación de características de entrada pueden hacer en el rendimiento general. Incluso podemos obtener características interpretables de esto en términos de lo que más contribuyó al sentimiento positivo y negativo:"
   ]
  },
  {
   "cell_type": "code",
   "execution_count": 64,
   "metadata": {},
   "outputs": [
    {
     "data": {
      "text/plain": [
       "array(['0', '0 16', '0 16 vitamin', ..., 'zuppa engelesia',\n",
       "       'zuppa engelesia mixed', 'zuppa engelesia mixed cream'],\n",
       "      dtype=object)"
      ]
     },
     "execution_count": 64,
     "metadata": {},
     "output_type": "execute_result"
    }
   ],
   "source": [
    "bow_counts.get_feature_names_out()"
   ]
  },
  {
   "cell_type": "code",
   "execution_count": 65,
   "metadata": {},
   "outputs": [
    {
     "data": {
      "text/plain": [
       "array(['0', '0 16', '0 16 vitamin', '0 16 vitamin e', '0 19',\n",
       "       '0 19 selenium', '0 19 selenium se', '0 1g', '0 1g scale',\n",
       "       '0 1g scale caviar', '0 26', '0 26 mins', '0 26 mins span', '0 29',\n",
       "       '0 29 cents', '0 29 cents ounce', '0 2g', '0 2g cholesterol',\n",
       "       '0 2g cholesterol 15mg', '0 30', '0 30 cents', '0 30 cents per',\n",
       "       '0 32', '0 32 mins', '0 32 mins span', '0 35', '0 35 oz',\n",
       "       '0 35 oz stevia', '0 38', '0 38 probably', '0 38 probably full',\n",
       "       '0 44', '0 44 baked', '0 44 baked kettles', '0 5', '0 5 cortisone',\n",
       "       '0 5 cortisone pepcid', '0 5 grams', '0 5 grams salted',\n",
       "       '0 5 short', '0 5 short seal', '0 5 sodium', '0 5 sodium 70mg',\n",
       "       '0 5 stars', '0 5 stars read', '0 5g', '0 5g 4', '0 5g 4 trans',\n",
       "       '0 75', '0 75 per', '0 75 per 8', '0 75 per expect', '0 8',\n",
       "       '0 8 g', '0 8 g protein', '0 8 ounce', '0 8 ounce single',\n",
       "       '0 8 ounces', '0 8 ounces compared', '0 8 oz', '0 8 oz 21',\n",
       "       '0 8 oz anymore', '0 8 oz bags', '0 80', '0 80 jar',\n",
       "       '0 80 jar fair', '0 81', '0 81 ounce', '0 81 ounce wafers',\n",
       "       '0 81 oz', '0 81 oz 23g', '0 83', '0 83 oz', '0 83 oz besides',\n",
       "       '0 8oz', '0 8oz 5', '0 8oz 5 safeway', '0 8oz bags',\n",
       "       '0 8oz bags texture', '0 8oz seemed', '0 8oz seemed size', '0 92',\n",
       "       '0 92 oz', '0 92 oz vs', '0 99', '0 99 ea', '0 99 ea tax',\n",
       "       '0 99 packages', '0 99 packages 0', '0 99 three',\n",
       "       '0 99 three honey', '0 9oz', '0 9oz stevia',\n",
       "       '0 9oz stevia extract', '0 avoid', '0 avoid rancidity',\n",
       "       '0 avoid rancidity keep', '0 baby', '0 baby organic',\n",
       "       '0 baby organic falls'], dtype=object)"
      ]
     },
     "execution_count": 65,
     "metadata": {},
     "output_type": "execute_result"
    }
   ],
   "source": [
    "bow_counts.get_feature_names_out()[0:100]"
   ]
  },
  {
   "cell_type": "code",
   "execution_count": 66,
   "metadata": {},
   "outputs": [
    {
     "data": {
      "text/plain": [
       "array([[-0.07959945,  0.00385578,  0.00385578, ...,  0.00577468,\n",
       "         0.00577468,  0.00577468]])"
      ]
     },
     "execution_count": 66,
     "metadata": {},
     "output_type": "execute_result"
    }
   ],
   "source": [
    "lr_model_all_new.coef_"
   ]
  },
  {
   "cell_type": "code",
   "execution_count": 67,
   "metadata": {},
   "outputs": [
    {
     "data": {
      "text/html": [
       "<div>\n",
       "<style scoped>\n",
       "    .dataframe tbody tr th:only-of-type {\n",
       "        vertical-align: middle;\n",
       "    }\n",
       "\n",
       "    .dataframe tbody tr th {\n",
       "        vertical-align: top;\n",
       "    }\n",
       "\n",
       "    .dataframe thead th {\n",
       "        text-align: right;\n",
       "    }\n",
       "</style>\n",
       "<table border=\"1\" class=\"dataframe\">\n",
       "  <thead>\n",
       "    <tr style=\"text-align: right;\">\n",
       "      <th></th>\n",
       "      <th>words</th>\n",
       "      <th>weights</th>\n",
       "    </tr>\n",
       "  </thead>\n",
       "  <tbody>\n",
       "    <tr>\n",
       "      <th>193789</th>\n",
       "      <td>excellent</td>\n",
       "      <td>1.187107</td>\n",
       "    </tr>\n",
       "    <tr>\n",
       "      <th>511228</th>\n",
       "      <td>smooth</td>\n",
       "      <td>1.151763</td>\n",
       "    </tr>\n",
       "    <tr>\n",
       "      <th>328711</th>\n",
       "      <td>loves</td>\n",
       "      <td>1.099136</td>\n",
       "    </tr>\n",
       "    <tr>\n",
       "      <th>266962</th>\n",
       "      <td>highly</td>\n",
       "      <td>0.993091</td>\n",
       "    </tr>\n",
       "    <tr>\n",
       "      <th>512191</th>\n",
       "      <td>snack</td>\n",
       "      <td>0.978472</td>\n",
       "    </tr>\n",
       "    <tr>\n",
       "      <th>30927</th>\n",
       "      <td>amazing</td>\n",
       "      <td>0.946924</td>\n",
       "    </tr>\n",
       "    <tr>\n",
       "      <th>618495</th>\n",
       "      <td>wonderful</td>\n",
       "      <td>0.928830</td>\n",
       "    </tr>\n",
       "    <tr>\n",
       "      <th>256450</th>\n",
       "      <td>happy</td>\n",
       "      <td>0.826187</td>\n",
       "    </tr>\n",
       "    <tr>\n",
       "      <th>205628</th>\n",
       "      <td>fast</td>\n",
       "      <td>0.787272</td>\n",
       "    </tr>\n",
       "    <tr>\n",
       "      <th>354329</th>\n",
       "      <td>morning</td>\n",
       "      <td>0.744977</td>\n",
       "    </tr>\n",
       "    <tr>\n",
       "      <th>225139</th>\n",
       "      <td>fresh</td>\n",
       "      <td>0.742814</td>\n",
       "    </tr>\n",
       "    <tr>\n",
       "      <th>563763</th>\n",
       "      <td>thank</td>\n",
       "      <td>0.730833</td>\n",
       "    </tr>\n",
       "    <tr>\n",
       "      <th>414887</th>\n",
       "      <td>pleased</td>\n",
       "      <td>0.717034</td>\n",
       "    </tr>\n",
       "    <tr>\n",
       "      <th>325922</th>\n",
       "      <td>lot</td>\n",
       "      <td>0.711053</td>\n",
       "    </tr>\n",
       "    <tr>\n",
       "      <th>151818</th>\n",
       "      <td>deal</td>\n",
       "      <td>0.672794</td>\n",
       "    </tr>\n",
       "  </tbody>\n",
       "</table>\n",
       "</div>"
      ],
      "text/plain": [
       "            words   weights\n",
       "193789  excellent  1.187107\n",
       "511228     smooth  1.151763\n",
       "328711      loves  1.099136\n",
       "266962     highly  0.993091\n",
       "512191      snack  0.978472\n",
       "30927     amazing  0.946924\n",
       "618495  wonderful  0.928830\n",
       "256450      happy  0.826187\n",
       "205628       fast  0.787272\n",
       "354329    morning  0.744977\n",
       "225139      fresh  0.742814\n",
       "563763      thank  0.730833\n",
       "414887    pleased  0.717034\n",
       "325922        lot  0.711053\n",
       "151818       deal  0.672794"
      ]
     },
     "execution_count": 67,
     "metadata": {},
     "output_type": "execute_result"
    }
   ],
   "source": [
    "lr_weights = pd.DataFrame(list(zip(bow_counts.get_feature_names_out(),\n",
    "                                   lr_model_all_new.coef_[0])),\n",
    "                          columns= ['words','weights'])\n",
    "\n",
    "lr_weights.sort_values(['weights'],ascending = False)[:15]"
   ]
  },
  {
   "cell_type": "code",
   "execution_count": 68,
   "metadata": {},
   "outputs": [
    {
     "data": {
      "text/html": [
       "<div>\n",
       "<style scoped>\n",
       "    .dataframe tbody tr th:only-of-type {\n",
       "        vertical-align: middle;\n",
       "    }\n",
       "\n",
       "    .dataframe tbody tr th {\n",
       "        vertical-align: top;\n",
       "    }\n",
       "\n",
       "    .dataframe thead th {\n",
       "        text-align: right;\n",
       "    }\n",
       "</style>\n",
       "<table border=\"1\" class=\"dataframe\">\n",
       "  <thead>\n",
       "    <tr style=\"text-align: right;\">\n",
       "      <th></th>\n",
       "      <th>words</th>\n",
       "      <th>weights</th>\n",
       "    </tr>\n",
       "  </thead>\n",
       "  <tbody>\n",
       "    <tr>\n",
       "      <th>45674</th>\n",
       "      <td>away</td>\n",
       "      <td>-0.955670</td>\n",
       "    </tr>\n",
       "    <tr>\n",
       "      <th>283307</th>\n",
       "      <td>ingredient</td>\n",
       "      <td>-0.971266</td>\n",
       "    </tr>\n",
       "    <tr>\n",
       "      <th>338558</th>\n",
       "      <td>maybe</td>\n",
       "      <td>-0.978561</td>\n",
       "    </tr>\n",
       "    <tr>\n",
       "      <th>532650</th>\n",
       "      <td>stick</td>\n",
       "      <td>-0.986461</td>\n",
       "    </tr>\n",
       "    <tr>\n",
       "      <th>561988</th>\n",
       "      <td>terrible</td>\n",
       "      <td>-1.010788</td>\n",
       "    </tr>\n",
       "    <tr>\n",
       "      <th>569316</th>\n",
       "      <td>thought</td>\n",
       "      <td>-1.035980</td>\n",
       "    </tr>\n",
       "    <tr>\n",
       "      <th>50550</th>\n",
       "      <td>bad</td>\n",
       "      <td>-1.085745</td>\n",
       "    </tr>\n",
       "    <tr>\n",
       "      <th>463366</th>\n",
       "      <td>return</td>\n",
       "      <td>-1.166554</td>\n",
       "    </tr>\n",
       "    <tr>\n",
       "      <th>607532</th>\n",
       "      <td>waste</td>\n",
       "      <td>-1.190550</td>\n",
       "    </tr>\n",
       "    <tr>\n",
       "      <th>46889</th>\n",
       "      <td>awful</td>\n",
       "      <td>-1.234082</td>\n",
       "    </tr>\n",
       "    <tr>\n",
       "      <th>164985</th>\n",
       "      <td>disappointing</td>\n",
       "      <td>-1.245909</td>\n",
       "    </tr>\n",
       "    <tr>\n",
       "      <th>623028</th>\n",
       "      <td>worst</td>\n",
       "      <td>-1.329266</td>\n",
       "    </tr>\n",
       "    <tr>\n",
       "      <th>271741</th>\n",
       "      <td>horrible</td>\n",
       "      <td>-1.576942</td>\n",
       "    </tr>\n",
       "    <tr>\n",
       "      <th>608748</th>\n",
       "      <td>weak</td>\n",
       "      <td>-1.640187</td>\n",
       "    </tr>\n",
       "    <tr>\n",
       "      <th>164467</th>\n",
       "      <td>disappointed</td>\n",
       "      <td>-2.050002</td>\n",
       "    </tr>\n",
       "  </tbody>\n",
       "</table>\n",
       "</div>"
      ],
      "text/plain": [
       "                words   weights\n",
       "45674            away -0.955670\n",
       "283307     ingredient -0.971266\n",
       "338558          maybe -0.978561\n",
       "532650          stick -0.986461\n",
       "561988       terrible -1.010788\n",
       "569316        thought -1.035980\n",
       "50550             bad -1.085745\n",
       "463366         return -1.166554\n",
       "607532          waste -1.190550\n",
       "46889           awful -1.234082\n",
       "164985  disappointing -1.245909\n",
       "623028          worst -1.329266\n",
       "271741       horrible -1.576942\n",
       "608748           weak -1.640187\n",
       "164467   disappointed -2.050002"
      ]
     },
     "execution_count": 68,
     "metadata": {},
     "output_type": "execute_result"
    }
   ],
   "source": [
    "lr_weights.sort_values(['weights'],ascending = False)[-15:]"
   ]
  },
  {
   "attachments": {},
   "cell_type": "markdown",
   "metadata": {},
   "source": [
    "### Ejercicio 6\n",
    "\n",
    "Realice una clasificación de Random Forest en nuestro conjunto de características tal como lo hicimos anteriormente con la regresión logística."
   ]
  },
  {
   "attachments": {},
   "cell_type": "markdown",
   "metadata": {},
   "source": [
    "**Se demora como 10 min (OJO!!!)**"
   ]
  },
  {
   "cell_type": "code",
   "execution_count": 69,
   "metadata": {},
   "outputs": [],
   "source": [
    "rf_model_all = RandomForestClassifier()\n",
    "\n",
    "### Ajustando el modelo\n",
    "rf_model_all.fit(X_train_bow,y_train_bow)\n",
    "\n",
    "### Una vez que se ajusta el modelo, se predice la salida para los datos de validación cruzada\n",
    "test_pred_lr_prob = rf_model_all.predict_proba(X_test_bow)\n",
    "test_pred_lr_all = rf_model_all.predict(X_test_bow)"
   ]
  },
  {
   "cell_type": "code",
   "execution_count": 70,
   "metadata": {},
   "outputs": [
    {
     "name": "stdout",
     "output_type": "stream",
     "text": [
      "F1 score:  0.9277794426131256\n",
      "Accuracy:  86.81619256017505\n"
     ]
    }
   ],
   "source": [
    "print(\"F1 score: \",f1_score(y_test_bow,test_pred_lr_all))\n",
    "print(\"Accuracy: \", accuracy_score(y_test_bow,test_pred_lr_all)* 100)"
   ]
  },
  {
   "attachments": {},
   "cell_type": "markdown",
   "metadata": {},
   "source": [
    "Esto no es tan bueno como la regresión logística. Podemos obtener los n-gramas que fueron más importantes para las predicciones de la siguiente manera:"
   ]
  },
  {
   "cell_type": "code",
   "execution_count": 71,
   "metadata": {},
   "outputs": [],
   "source": [
    "feature_importances = pd.DataFrame(rf_model_all.feature_importances_,\n",
    "                                   index = bow_counts.get_feature_names_out(),\n",
    "                                    columns=['importance'])"
   ]
  },
  {
   "cell_type": "code",
   "execution_count": 72,
   "metadata": {},
   "outputs": [
    {
     "data": {
      "text/html": [
       "<div>\n",
       "<style scoped>\n",
       "    .dataframe tbody tr th:only-of-type {\n",
       "        vertical-align: middle;\n",
       "    }\n",
       "\n",
       "    .dataframe tbody tr th {\n",
       "        vertical-align: top;\n",
       "    }\n",
       "\n",
       "    .dataframe thead th {\n",
       "        text-align: right;\n",
       "    }\n",
       "</style>\n",
       "<table border=\"1\" class=\"dataframe\">\n",
       "  <thead>\n",
       "    <tr style=\"text-align: right;\">\n",
       "      <th></th>\n",
       "      <th>importance</th>\n",
       "    </tr>\n",
       "  </thead>\n",
       "  <tbody>\n",
       "    <tr>\n",
       "      <th>disappointed</th>\n",
       "      <td>0.004962</td>\n",
       "    </tr>\n",
       "    <tr>\n",
       "      <th>refund</th>\n",
       "      <td>0.003886</td>\n",
       "    </tr>\n",
       "    <tr>\n",
       "      <th>disappointing</th>\n",
       "      <td>0.003644</td>\n",
       "    </tr>\n",
       "    <tr>\n",
       "      <th>worst</th>\n",
       "      <td>0.003515</td>\n",
       "    </tr>\n",
       "    <tr>\n",
       "      <th>return</th>\n",
       "      <td>0.003510</td>\n",
       "    </tr>\n",
       "    <tr>\n",
       "      <th>waste</th>\n",
       "      <td>0.003485</td>\n",
       "    </tr>\n",
       "    <tr>\n",
       "      <th>horrible</th>\n",
       "      <td>0.002503</td>\n",
       "    </tr>\n",
       "    <tr>\n",
       "      <th>bad</th>\n",
       "      <td>0.002008</td>\n",
       "    </tr>\n",
       "    <tr>\n",
       "      <th>money</th>\n",
       "      <td>0.001907</td>\n",
       "    </tr>\n",
       "    <tr>\n",
       "      <th>disappointment</th>\n",
       "      <td>0.001763</td>\n",
       "    </tr>\n",
       "  </tbody>\n",
       "</table>\n",
       "</div>"
      ],
      "text/plain": [
       "                importance\n",
       "disappointed      0.004962\n",
       "refund            0.003886\n",
       "disappointing     0.003644\n",
       "worst             0.003515\n",
       "return            0.003510\n",
       "waste             0.003485\n",
       "horrible          0.002503\n",
       "bad               0.002008\n",
       "money             0.001907\n",
       "disappointment    0.001763"
      ]
     },
     "execution_count": 72,
     "metadata": {},
     "output_type": "execute_result"
    }
   ],
   "source": [
    "feature_importances.sort_values(['importance'], ascending=False)[:10]"
   ]
  },
  {
   "attachments": {},
   "cell_type": "markdown",
   "metadata": {},
   "source": [
    "## TF-IDF model"
   ]
  },
  {
   "attachments": {},
   "cell_type": "markdown",
   "metadata": {},
   "source": [
    "Por supuesto, BoW no es la única forma de caracterizar el texto. Otro método, que mencionamos brevemente antes, es el método **Término de frecuencia-frecuencia inversa del documento (TF-IDF)**. Esto evalúa qué tan importante es una palabra para un documento dentro de una gran colección de documentos (es decir, corpus). La importancia aumenta proporcionalmente en función del número de veces que aparece una palabra en el documento, pero se compensa con la frecuencia de la palabra en el corpus.\n",
    "\n",
    "El peso TF-IDF es el producto de dos términos. El primero calcula la frecuencia de término normalizada (TF); es decir, el número de veces que aparece una palabra en un documento dividido por el número total de palabras en ese documento. El segundo término es la Frecuencia Inversa de Documentos (IDF), calculada como el logaritmo del número de documentos en el corpus dividido por el número de documentos donde aparece el término específico:"
   ]
  },
  {
   "attachments": {},
   "cell_type": "markdown",
   "metadata": {},
   "source": [
    "Volvamos a presentar nuestro conjunto original de revisiones basado en TF-IDF y dividamos las funciones resultantes en conjuntos de entrenamiento y prueba:"
   ]
  },
  {
   "cell_type": "code",
   "execution_count": 73,
   "metadata": {},
   "outputs": [
    {
     "name": "stderr",
     "output_type": "stream",
     "text": [
      "C:\\Users\\Windows\\AppData\\Roaming\\Python\\Python39\\site-packages\\sklearn\\feature_extraction\\text.py:528: UserWarning: The parameter 'token_pattern' will not be used since 'tokenizer' is not None'\n",
      "  warnings.warn(\n",
      "C:\\Users\\Windows\\AppData\\Roaming\\Python\\Python39\\site-packages\\sklearn\\feature_extraction\\text.py:409: UserWarning: Your stop_words may be inconsistent with your preprocessing. Tokenizing the stop words generated tokens [\"'d\", \"'ll\", \"'re\", \"'s\", \"'ve\", 'might', 'must', \"n't\", 'need', 'sha', 'wo'] not in stop_words.\n",
      "  warnings.warn(\n"
     ]
    }
   ],
   "source": [
    "### Instanciando el objeto\n",
    "tfidf_counts = TfidfVectorizer(tokenizer= word_tokenize,stop_words=noise_words,\n",
    "                             ngram_range=(1,1))\n",
    "tfidf_data = tfidf_counts.fit_transform(amazon_reviews.reviews_text_new)"
   ]
  },
  {
   "cell_type": "code",
   "execution_count": 75,
   "metadata": {},
   "outputs": [],
   "source": [
    "X_train_tfidf, X_test_tfidf, y_train_tfidf, y_test_tfidf =  \\\n",
    "                            train_test_split(tfidf_data,amazon_reviews.Sentiment_rating,test_size = 0.2,random_state = 0)"
   ]
  },
  {
   "cell_type": "code",
   "execution_count": 76,
   "metadata": {},
   "outputs": [
    {
     "data": {
      "text/plain": [
       "(7310, 17616)"
      ]
     },
     "execution_count": 76,
     "metadata": {},
     "output_type": "execute_result"
    }
   ],
   "source": [
    "X_train_tfidf.shape"
   ]
  },
  {
   "attachments": {},
   "cell_type": "markdown",
   "metadata": {},
   "source": [
    "### Aplicación de regresión logística a características TF-IDF"
   ]
  },
  {
   "attachments": {},
   "cell_type": "markdown",
   "metadata": {},
   "source": [
    "Aplicaremos el modelo de RL usando la TF-IDF:"
   ]
  },
  {
   "cell_type": "code",
   "execution_count": 77,
   "metadata": {},
   "outputs": [
    {
     "name": "stdout",
     "output_type": "stream",
     "text": [
      "F1 score:  0.9335347432024169\n",
      "Accuracy:  87.96498905908096\n"
     ]
    }
   ],
   "source": [
    "### Definiendo el modelo\n",
    "lr_model_tf_idf = LogisticRegression()\n",
    "\n",
    "## Entrenando el modelo\n",
    "lr_model_tf_idf.fit(X_train_tfidf,y_train_tfidf)\n",
    "\n",
    "## Prediciendo los resultados\n",
    "test_pred_lr_prob = lr_model_tf_idf.predict_proba(X_test_tfidf)\n",
    "test_pred_lr_all = lr_model_tf_idf.predict(X_test_tfidf)\n",
    "\n",
    "## Evaluando el modelo\n",
    "print(\"F1 score: \",f1_score(y_test_bow,test_pred_lr_all))\n",
    "print(\"Accuracy: \", accuracy_score(y_test_bow,test_pred_lr_all)* 100)"
   ]
  },
  {
   "attachments": {},
   "cell_type": "markdown",
   "metadata": {},
   "source": [
    "Incrementamos el accuracy con la TF-IDF comparando los resultados de BoW"
   ]
  },
  {
   "attachments": {},
   "cell_type": "markdown",
   "metadata": {},
   "source": [
    "### Ejercicio 7\n",
    "\n",
    "Intente aumentar la precisión del modelo configurando `ngram_range=(1,4)` y no eliminando las palabras irrelevantes de antemano."
   ]
  },
  {
   "cell_type": "code",
   "execution_count": 78,
   "metadata": {},
   "outputs": [
    {
     "name": "stderr",
     "output_type": "stream",
     "text": [
      "C:\\Users\\Windows\\AppData\\Roaming\\Python\\Python39\\site-packages\\sklearn\\feature_extraction\\text.py:528: UserWarning: The parameter 'token_pattern' will not be used since 'tokenizer' is not None'\n",
      "  warnings.warn(\n"
     ]
    }
   ],
   "source": [
    "###Instanciando el objeto\n",
    "\n",
    "tfidf_counts = TfidfVectorizer(tokenizer= word_tokenize,\n",
    "                             ngram_range=(1,4))\n",
    "tfidf_data = tfidf_counts.fit_transform(amazon_reviews.reviews_text_new)"
   ]
  },
  {
   "cell_type": "code",
   "execution_count": 79,
   "metadata": {},
   "outputs": [],
   "source": [
    "X_train_tfidf, X_test_tfidf, y_train_tfidf, y_test_tfidf =  \\\n",
    "                            train_test_split(tfidf_data,amazon_reviews.Sentiment_rating,test_size = 0.2,random_state = 0)"
   ]
  },
  {
   "cell_type": "code",
   "execution_count": 80,
   "metadata": {},
   "outputs": [
    {
     "name": "stdout",
     "output_type": "stream",
     "text": [
      "F1 score:  0.9420731707317074\n",
      "Accuracy:  89.60612691466083\n"
     ]
    },
    {
     "name": "stderr",
     "output_type": "stream",
     "text": [
      "C:\\Users\\Windows\\AppData\\Roaming\\Python\\Python39\\site-packages\\sklearn\\linear_model\\_logistic.py:458: ConvergenceWarning: lbfgs failed to converge (status=1):\n",
      "STOP: TOTAL NO. of ITERATIONS REACHED LIMIT.\n",
      "\n",
      "Increase the number of iterations (max_iter) or scale the data as shown in:\n",
      "    https://scikit-learn.org/stable/modules/preprocessing.html\n",
      "Please also refer to the documentation for alternative solver options:\n",
      "    https://scikit-learn.org/stable/modules/linear_model.html#logistic-regression\n",
      "  n_iter_i = _check_optimize_result(\n"
     ]
    }
   ],
   "source": [
    "### Definiendo el modelo\n",
    "lr_model_tf_idf_new = LogisticRegression(C = 1e2, penalty= 'l2')\n",
    "\n",
    "## Entrenando\n",
    "lr_model_tf_idf_new.fit(X_train_tfidf,y_train_tfidf)\n",
    "\n",
    "## Prediciendo\n",
    "test_pred_lr_prob = lr_model_tf_idf_new.predict_proba(X_test_tfidf)\n",
    "test_pred_lr_all = lr_model_tf_idf_new.predict(X_test_tfidf)\n",
    "\n",
    "## Evaluando\n",
    "print(\"F1 score: \",f1_score(y_test_bow,test_pred_lr_all))\n",
    "print(\"Accuracy: \", accuracy_score(y_test_bow,test_pred_lr_all)* 100)"
   ]
  },
  {
   "attachments": {},
   "cell_type": "markdown",
   "metadata": {},
   "source": [
    "Obtenemos aun mejor valor de accuracy"
   ]
  },
  {
   "cell_type": "code",
   "execution_count": 81,
   "metadata": {},
   "outputs": [
    {
     "data": {
      "text/html": [
       "<div>\n",
       "<style scoped>\n",
       "    .dataframe tbody tr th:only-of-type {\n",
       "        vertical-align: middle;\n",
       "    }\n",
       "\n",
       "    .dataframe tbody tr th {\n",
       "        vertical-align: top;\n",
       "    }\n",
       "\n",
       "    .dataframe thead th {\n",
       "        text-align: right;\n",
       "    }\n",
       "</style>\n",
       "<table border=\"1\" class=\"dataframe\">\n",
       "  <thead>\n",
       "    <tr style=\"text-align: right;\">\n",
       "      <th></th>\n",
       "      <th>words</th>\n",
       "      <th>weights</th>\n",
       "    </tr>\n",
       "  </thead>\n",
       "  <tbody>\n",
       "    <tr>\n",
       "      <th>448809</th>\n",
       "      <td>great</td>\n",
       "      <td>16.027744</td>\n",
       "    </tr>\n",
       "    <tr>\n",
       "      <th>438773</th>\n",
       "      <td>good</td>\n",
       "      <td>9.497579</td>\n",
       "    </tr>\n",
       "    <tr>\n",
       "      <th>1023733</th>\n",
       "      <td>the best</td>\n",
       "      <td>9.267394</td>\n",
       "    </tr>\n",
       "    <tr>\n",
       "      <th>639088</th>\n",
       "      <td>love</td>\n",
       "      <td>9.124730</td>\n",
       "    </tr>\n",
       "    <tr>\n",
       "      <th>171393</th>\n",
       "      <td>best</td>\n",
       "      <td>8.912441</td>\n",
       "    </tr>\n",
       "    <tr>\n",
       "      <th>305794</th>\n",
       "      <td>delicious</td>\n",
       "      <td>8.869382</td>\n",
       "    </tr>\n",
       "    <tr>\n",
       "      <th>18182</th>\n",
       "      <td>a</td>\n",
       "      <td>8.020929</td>\n",
       "    </tr>\n",
       "    <tr>\n",
       "      <th>810997</th>\n",
       "      <td>perfect</td>\n",
       "      <td>7.736288</td>\n",
       "    </tr>\n",
       "    <tr>\n",
       "      <th>81880</th>\n",
       "      <td>and</td>\n",
       "      <td>7.511192</td>\n",
       "    </tr>\n",
       "    <tr>\n",
       "      <th>709971</th>\n",
       "      <td>nice</td>\n",
       "      <td>7.322391</td>\n",
       "    </tr>\n",
       "  </tbody>\n",
       "</table>\n",
       "</div>"
      ],
      "text/plain": [
       "             words    weights\n",
       "448809       great  16.027744\n",
       "438773        good   9.497579\n",
       "1023733   the best   9.267394\n",
       "639088        love   9.124730\n",
       "171393        best   8.912441\n",
       "305794   delicious   8.869382\n",
       "18182            a   8.020929\n",
       "810997     perfect   7.736288\n",
       "81880          and   7.511192\n",
       "709971        nice   7.322391"
      ]
     },
     "execution_count": 81,
     "metadata": {},
     "output_type": "execute_result"
    }
   ],
   "source": [
    "lr_weights = pd.DataFrame(list(zip(tfidf_counts.get_feature_names_out(),\n",
    "                                   lr_model_tf_idf_new.coef_[0])),\n",
    "                          columns= ['words','weights'])\n",
    "\n",
    "lr_weights.sort_values(['weights'],ascending = False)[:10]"
   ]
  },
  {
   "cell_type": "code",
   "execution_count": 82,
   "metadata": {},
   "outputs": [
    {
     "data": {
      "text/html": [
       "<div>\n",
       "<style scoped>\n",
       "    .dataframe tbody tr th:only-of-type {\n",
       "        vertical-align: middle;\n",
       "    }\n",
       "\n",
       "    .dataframe tbody tr th {\n",
       "        vertical-align: top;\n",
       "    }\n",
       "\n",
       "    .dataframe thead th {\n",
       "        text-align: right;\n",
       "    }\n",
       "</style>\n",
       "<table border=\"1\" class=\"dataframe\">\n",
       "  <thead>\n",
       "    <tr style=\"text-align: right;\">\n",
       "      <th></th>\n",
       "      <th>words</th>\n",
       "      <th>weights</th>\n",
       "    </tr>\n",
       "  </thead>\n",
       "  <tbody>\n",
       "    <tr>\n",
       "      <th>317336</th>\n",
       "      <td>disappointing</td>\n",
       "      <td>-7.123034</td>\n",
       "    </tr>\n",
       "    <tr>\n",
       "      <th>1201325</th>\n",
       "      <td>weak</td>\n",
       "      <td>-7.130876</td>\n",
       "    </tr>\n",
       "    <tr>\n",
       "      <th>1185315</th>\n",
       "      <td>was</td>\n",
       "      <td>-7.834674</td>\n",
       "    </tr>\n",
       "    <tr>\n",
       "      <th>1193585</th>\n",
       "      <td>waste</td>\n",
       "      <td>-8.066858</td>\n",
       "    </tr>\n",
       "    <tr>\n",
       "      <th>1206112</th>\n",
       "      <td>were</td>\n",
       "      <td>-8.217042</td>\n",
       "    </tr>\n",
       "    <tr>\n",
       "      <th>352214</th>\n",
       "      <td>even</td>\n",
       "      <td>-9.068569</td>\n",
       "    </tr>\n",
       "    <tr>\n",
       "      <th>982546</th>\n",
       "      <td>t</td>\n",
       "      <td>-9.370000</td>\n",
       "    </tr>\n",
       "    <tr>\n",
       "      <th>148156</th>\n",
       "      <td>bad</td>\n",
       "      <td>-9.402159</td>\n",
       "    </tr>\n",
       "    <tr>\n",
       "      <th>316985</th>\n",
       "      <td>disappointed</td>\n",
       "      <td>-11.900230</td>\n",
       "    </tr>\n",
       "    <tr>\n",
       "      <th>716808</th>\n",
       "      <td>not</td>\n",
       "      <td>-19.268352</td>\n",
       "    </tr>\n",
       "  </tbody>\n",
       "</table>\n",
       "</div>"
      ],
      "text/plain": [
       "                 words    weights\n",
       "317336   disappointing  -7.123034\n",
       "1201325           weak  -7.130876\n",
       "1185315            was  -7.834674\n",
       "1193585          waste  -8.066858\n",
       "1206112           were  -8.217042\n",
       "352214            even  -9.068569\n",
       "982546               t  -9.370000\n",
       "148156             bad  -9.402159\n",
       "316985    disappointed -11.900230\n",
       "716808             not -19.268352"
      ]
     },
     "execution_count": 82,
     "metadata": {},
     "output_type": "execute_result"
    }
   ],
   "source": [
    "lr_weights.sort_values(['weights'],ascending = False)[-10:]"
   ]
  },
  {
   "cell_type": "code",
   "execution_count": 94,
   "metadata": {},
   "outputs": [
    {
     "name": "stdout",
     "output_type": "stream",
     "text": [
      "Prediccion final del mensaje: [1 0 1 0 0]\n"
     ]
    }
   ],
   "source": [
    "# Como obtener predicciones\n",
    "mensaje=['Good job i love it','Bad person','I love it', 'I dont like this product', 'Bad service']\n",
    "\n",
    "df=pd.DataFrame()\n",
    "df['mensaje']=mensaje\n",
    "X_new=tfidf_counts.transform(df.mensaje)\n",
    "\n",
    "print('Prediccion final del mensaje:', lr_model_tf_idf_new.predict(X_new))"
   ]
  },
  {
   "cell_type": "code",
   "execution_count": 96,
   "metadata": {},
   "outputs": [],
   "source": [
    "import pickle\n",
    "model_n= 'modelo_reg_logistica_final.pkl'\n",
    "with open(model_n, 'wb') as f:\n",
    "    pickle.dump(lr_model_tf_idf_new, f)"
   ]
  },
  {
   "cell_type": "code",
   "execution_count": 103,
   "metadata": {},
   "outputs": [
    {
     "name": "stdout",
     "output_type": "stream",
     "text": [
      "Prediccion final del mensaje: [1 0 1 0 0]\n"
     ]
    }
   ],
   "source": [
    "# Importar modelo entrenado\n",
    "model_n= 'modelo_reg_logistica_final.pkl'\n",
    "with open(model_n, 'rb') as f:\n",
    "    modelo_nuevo=pickle.load(f, encoding='utf-8')"
   ]
  },
  {
   "cell_type": "code",
   "execution_count": 105,
   "metadata": {},
   "outputs": [
    {
     "data": {
      "text/plain": [
       "['vectorizador_tfidf.pkl']"
      ]
     },
     "execution_count": 105,
     "metadata": {},
     "output_type": "execute_result"
    }
   ],
   "source": [
    "# Guardar el vectorizador\n",
    "import joblib\n",
    "joblib.dump(tfidf_counts,'vectorizador_tfidf.pkl')"
   ]
  },
  {
   "cell_type": "code",
   "execution_count": 106,
   "metadata": {},
   "outputs": [],
   "source": [
    "# Cargando vectorizador\n",
    "import joblib\n",
    "vectorizador= joblib.load('vectorizador_tfidf.pkl')"
   ]
  },
  {
   "cell_type": "code",
   "execution_count": 116,
   "metadata": {},
   "outputs": [
    {
     "name": "stdout",
     "output_type": "stream",
     "text": [
      "Prediccion final del mensaje: Bueno\n"
     ]
    }
   ],
   "source": [
    "# Probando\n",
    "mensaje = input('Ingresa un mensaje: ')\n",
    "\n",
    "#df=pd.DataFrame()\n",
    "#df['mensaje']=[mensaje]\n",
    "X_new=vectorizador.transform([mensaje])\n",
    "\n",
    "dict_transfer ={0:'Malo', 1:'Bueno'}\n",
    "\n",
    "print('Prediccion final del mensaje:', dict_transfer[modelo_nuevo.predict(X_new)[0]])"
   ]
  },
  {
   "attachments": {},
   "cell_type": "markdown",
   "metadata": {},
   "source": [
    "## Word embeddings"
   ]
  },
  {
   "attachments": {},
   "cell_type": "markdown",
   "metadata": {},
   "source": [
    "El tipo final de caracterización que cubriremos son las **Word Embeddings**. Este es un tipo de representación de palabras que permite que las palabras con un significado similar tengan una representación similar. Es este enfoque para representar palabras y documentos el que puede considerarse uno de los avances clave del aprendizaje profundo en los desafiantes problemas de procesamiento del lenguaje natural. Es capaz de captar el contexto de una palabra en un documento, su similitud semántica y sintáctica, y su relación con otras palabras. Las incrustaciones de palabras son, de hecho, una clase de técnicas en las que las palabras individuales se representan como vectores de valores reales en un espacio vectorial predefinido."
   ]
  },
  {
   "attachments": {},
   "cell_type": "markdown",
   "metadata": {},
   "source": [
    "En la siguiente imagen, cada una de las palabras se ha representado en 2 dimensiones para simplificar. Se puede ver claramente que las palabras con un contexto similar se agrupan: el baño, la cocina, la bañera se agrupan, mientras que el microondas, el refrigerador, el horno forman otro grupo, etc."
   ]
  },
  {
   "cell_type": "code",
   "execution_count": 86,
   "metadata": {},
   "outputs": [],
   "source": [
    "from IPython.display import Image\n",
    "from IPython.core.display import HTML"
   ]
  },
  {
   "attachments": {},
   "cell_type": "markdown",
   "metadata": {},
   "source": [
    "Existen diferentes métodos para aprender incrustaciones de palabras: Word2Vec, GloVe, FastText. **Word2Vec** utiliza una red neuronal superficial y es de dos tipos; _CBOW_ y _Skip Gram_. **GloVe** es un algoritmo de aprendizaje no supervisado para obtener representaciones vectoriales de palabras. El entrenamiento se realiza en estadísticas globales agregadas de coocurrencia palabra-palabra de un corpus, y las representaciones resultantes muestran subestructuras lineales interesantes del espacio vectorial de palabras. **fastText** es una biblioteca para aprender incrustaciones de palabras y clasificación de texto creada por el laboratorio de investigación de IA de Facebook."
   ]
  },
  {
   "attachments": {},
   "cell_type": "markdown",
   "metadata": {},
   "source": [
    "### ¿Por qué usar incrustaciones de palabras en lugar de bolsa de palabras y TF-IDF?\n",
    "\n",
    "Cada palabra está representada por un vector de valor real, que generalmente tiene decenas o cientos de dimensiones. Esto contrasta con los miles o millones de dimensiones requeridas para las representaciones de palabras dispersas. Por lo tanto, las incrustaciones de palabras pueden reducir drásticamente la cantidad de dimensiones requeridas para representar un documento de texto:"
   ]
  },
  {
   "cell_type": "code",
   "execution_count": null,
   "metadata": {},
   "outputs": [],
   "source": [
    "!pip install gensim"
   ]
  },
  {
   "cell_type": "code",
   "execution_count": 87,
   "metadata": {},
   "outputs": [
    {
     "name": "stderr",
     "output_type": "stream",
     "text": [
      "c:\\Users\\Windows\\Anaconda3\\lib\\site-packages\\paramiko\\transport.py:219: CryptographyDeprecationWarning: Blowfish has been deprecated\n",
      "  \"class\": algorithms.Blowfish,\n"
     ]
    }
   ],
   "source": [
    "import gensim"
   ]
  },
  {
   "cell_type": "code",
   "execution_count": 89,
   "metadata": {},
   "outputs": [
    {
     "data": {
      "text/plain": [
       "'c:\\\\Users\\\\Windows\\\\Desktop\\\\Bootcamp-DS-2023-I\\\\Clase 25 - 24 May 2023\\\\glove.twitter.27B.200d_out.txt'"
      ]
     },
     "execution_count": 89,
     "metadata": {},
     "output_type": "execute_result"
    }
   ],
   "source": [
    "os.path.join(os.getcwd(), 'glove.twitter.27B.200d_out.txt')"
   ]
  },
  {
   "attachments": {},
   "cell_type": "markdown",
   "metadata": {},
   "source": [
    "**Se demora la carga 3 min**"
   ]
  },
  {
   "cell_type": "code",
   "execution_count": 90,
   "metadata": {},
   "outputs": [],
   "source": [
    "### Cargando una incrustación de palabras de guante previamente entrenada que está entrenada en el conjunto de datos de Twitter\n",
    "### Esta palabra incrustada tiene una longitud de 200 dimensiones\n",
    "model = gensim.models.KeyedVectors.load_word2vec_format(\n",
    "    os.path.join(os.getcwd(), 'glove.twitter.27B.200d_out.txt'), binary=False,\n",
    "    unicode_errors='ignore')"
   ]
  },
  {
   "attachments": {},
   "cell_type": "markdown",
   "metadata": {},
   "source": [
    "Teníamos aproximadamente 18 000 tokens distintos para características de 1-grams en la representación de la bolsa de palabras, pero solo tendrán 200 dimensiones en esta inserción de palabras. ¡Esta es una gran diferencia!\n",
    "\n",
    "Además, las incrustaciones de palabras capturan el contexto y la semántica de las oraciones, ya que cada representación de vector de palabra se basa en su significado contextual.\n",
    "\n",
    "A continuación se muestra la representación vectorial de \"comida\" y \"genial\":"
   ]
  },
  {
   "cell_type": "code",
   "execution_count": 93,
   "metadata": {},
   "outputs": [
    {
     "name": "stdout",
     "output_type": "stream",
     "text": [
      "El embedding para food es 200 dimensional\n"
     ]
    },
    {
     "data": {
      "text/plain": [
       "array([-0.10019  ,  0.47904  ,  0.25359  , -0.27892  ,  0.51639  ,\n",
       "        0.084487 ,  0.651    ,  0.2352   ,  0.23121  ,  0.15063  ,\n",
       "        0.2393   ,  0.5966   , -0.70029  , -0.52515  ,  0.12225  ,\n",
       "       -0.19229  , -0.35157  ,  0.025316 ,  0.10054  , -0.46868  ,\n",
       "       -0.28708  , -0.1605   ,  0.45892  , -0.5462   , -0.21911  ,\n",
       "       -0.35703  ,  0.27323  ,  0.35647  , -0.44701  , -0.13426  ,\n",
       "        0.12075  , -0.12442  , -0.13208  ,  0.71759  ,  0.40226  ,\n",
       "        0.36536  ,  0.34521  ,  0.21888  ,  0.015854 ,  0.4149   ,\n",
       "        0.25785  ,  0.096856 ,  0.020517 ,  0.29929  , -0.12984  ,\n",
       "       -0.15145  , -0.26522  ,  0.066851 , -0.0081189,  0.74388  ,\n",
       "       -0.21816  , -0.34298  , -0.30858  ,  0.17852  , -0.44692  ,\n",
       "       -0.79443  , -0.46182  , -0.049249 ,  0.39682  ,  0.27501  ,\n",
       "        0.17545  , -0.034642 , -0.36088  ,  0.3939   , -0.30551  ,\n",
       "       -0.31465  , -0.14363  ,  0.26067  ,  0.55978  ,  0.3073   ,\n",
       "        0.19494  ,  0.26496  , -1.0708   , -0.16244  ,  0.052608 ,\n",
       "       -0.10382  ,  0.22338  ,  0.1479   , -0.0090512,  0.11376  ,\n",
       "        0.76151  , -0.020485 ,  0.13624  , -0.14657  ,  0.62198  ,\n",
       "       -0.20766  , -0.16327  , -0.77714  ,  0.034166 , -0.34281  ,\n",
       "       -0.62275  ,  0.27725  , -0.59536  , -0.13588  , -0.31024  ,\n",
       "       -0.054984 ,  0.055447 ,  0.49442  ,  0.072102 ,  0.34473  ,\n",
       "       -0.056082 , -0.13115  ,  0.16567  , -0.15773  , -0.10943  ,\n",
       "        0.16734  ,  0.23496  , -0.009347 ,  0.31369  , -0.034603 ,\n",
       "       -0.37486  , -0.35826  ,  0.29988  ,  0.42378  , -0.37425  ,\n",
       "       -0.35487  ,  0.68492  ,  0.39112  , -0.34715  ,  0.28161  ,\n",
       "       -0.014132 , -0.042507 , -0.11788  , -0.25675  , -0.37511  ,\n",
       "       -0.24321  ,  0.087766 ,  0.45886  ,  0.46556  ,  0.48128  ,\n",
       "       -0.52003  , -0.14189  ,  0.17135  , -0.34902  , -0.055818 ,\n",
       "        0.39426  ,  0.31994  , -0.91045  , -0.12708  , -0.31524  ,\n",
       "       -0.1027   , -0.014997 , -0.089368 ,  0.34152  , -0.075297 ,\n",
       "        0.46347  ,  0.44257  , -0.25585  , -0.1997   ,  0.33352  ,\n",
       "       -0.167    , -0.016206 , -4.9652   , -0.36496  , -0.032374 ,\n",
       "        0.55588  , -0.45933  , -0.63702  ,  0.13158  , -0.16388  ,\n",
       "       -0.37894  , -0.48639  , -0.27065  ,  0.35202  , -0.10281  ,\n",
       "       -0.011396 ,  0.24228  ,  0.082169 ,  0.45082  , -0.32748  ,\n",
       "        0.76092  , -0.36716  ,  0.028907 , -0.33888  ,  0.68173  ,\n",
       "        0.070443 ,  0.059148 , -0.30116  ,  0.65303  , -0.095571 ,\n",
       "       -0.37871  ,  0.48874  , -0.26032  , -0.32795  , -0.0080165,\n",
       "        0.4978   ,  0.11623  , -0.22455  , -0.2125   , -0.28147  ,\n",
       "       -0.35974  , -0.0051359,  0.0086877, -0.64111  ,  0.5443   ,\n",
       "       -0.2538   ,  0.36388  , -0.14468  , -0.12743  ,  0.32479  ],\n",
       "      dtype=float32)"
      ]
     },
     "execution_count": 93,
     "metadata": {},
     "output_type": "execute_result"
    }
   ],
   "source": [
    "print(\"El embedding para food es\",len(model['food']),\"dimensional\")\n",
    "\n",
    "model['play']"
   ]
  },
  {
   "cell_type": "code",
   "execution_count": 100,
   "metadata": {},
   "outputs": [
    {
     "name": "stdout",
     "output_type": "stream",
     "text": [
      "El embedding para great es 200 dimensional\n"
     ]
    },
    {
     "data": {
      "text/plain": [
       "array([-5.8444e-02, -2.7107e-01, -1.6355e-01,  1.8157e-02, -6.3311e-01,\n",
       "       -1.6805e-01, -1.1565e-01, -2.8428e-01,  8.3156e-02, -1.2587e-01,\n",
       "        3.2645e-01,  2.0167e-01, -5.5617e-01, -2.9360e-01,  3.6728e-01,\n",
       "        2.0226e-01,  3.0539e-01,  1.6539e-01,  7.8616e-01,  1.0897e-01,\n",
       "       -1.4187e-01, -1.5634e-02,  1.4867e-01, -3.7349e-01, -3.1318e-01,\n",
       "       -1.0384e+00,  2.8103e-01,  5.3942e-01, -3.1911e-01, -4.1998e-02,\n",
       "        4.3780e-01,  1.6181e-01, -3.1486e-01,  4.8686e-01,  5.3318e-01,\n",
       "        3.8721e-01,  6.1277e-02, -6.6646e-02,  1.2850e-01, -1.3476e-01,\n",
       "        2.2572e-01, -2.7860e-01,  1.7714e-01,  7.1434e-02, -1.0712e+00,\n",
       "        4.6368e-02,  1.6558e-02,  2.3381e-01,  3.3634e-01,  1.6915e-01,\n",
       "       -1.0896e-01, -3.6014e-02,  2.2121e-01, -6.5253e-02, -6.0141e-01,\n",
       "       -1.3663e-01, -1.0937e-01, -3.2753e-01,  2.7619e-01, -4.8823e-01,\n",
       "       -1.0197e-01,  5.5587e-02, -4.1772e-01, -2.0069e-01,  3.5726e-01,\n",
       "        2.5579e-01, -2.8487e-01, -2.5780e-01, -1.6852e-01,  4.3137e-01,\n",
       "        2.4143e-01,  7.4723e-02,  7.0887e-01,  6.2975e-01, -2.5288e-02,\n",
       "       -7.2693e-01,  6.3865e-01,  3.4080e-01, -7.8549e-01,  1.7546e-01,\n",
       "        8.1080e-01,  2.4934e-01,  1.3508e-01,  4.1991e-01, -6.5343e-01,\n",
       "       -3.1146e-01,  3.3584e-01, -5.9335e-02,  3.1882e-01, -2.7182e-01,\n",
       "        2.4448e-03, -5.7352e-01,  3.1365e-01, -3.5199e-01,  2.8173e-01,\n",
       "        5.7667e-01,  2.9821e-01,  4.2238e-01, -2.3367e-01, -2.6662e-01,\n",
       "       -5.5620e-01,  3.5936e-01,  3.7129e-01,  7.3613e-02,  4.7923e-01,\n",
       "       -2.7998e-01, -6.1919e-02, -4.5041e-01,  1.9065e-01,  1.5908e-01,\n",
       "        9.1709e-02,  4.9751e-01, -6.9154e-02,  3.7915e-01, -3.7632e-01,\n",
       "       -1.1003e-01,  3.1285e-01, -6.9520e-01, -2.9074e-01, -2.1528e-01,\n",
       "        4.0153e-02, -2.6690e-02,  4.1590e-01, -2.9055e-01, -5.3571e-02,\n",
       "       -1.1450e-02, -6.0242e-02, -8.2224e-03,  3.5168e-02,  4.7488e-01,\n",
       "       -1.5439e-02,  4.0590e-01,  2.1555e-01, -1.0857e-01,  2.3370e-01,\n",
       "       -4.7043e-02,  4.7198e-01, -2.0345e-03,  5.9259e-02,  3.6565e-01,\n",
       "        3.7698e-02, -1.2644e-01, -3.6607e-01,  1.4980e-01,  7.8767e-01,\n",
       "       -8.7000e-02,  1.1469e-01,  1.0858e-01, -4.4180e-01,  3.4476e-01,\n",
       "       -5.0806e-01, -3.9518e-01, -3.6641e+00, -9.2773e-02, -9.3536e-02,\n",
       "        1.5428e-01, -6.6215e-01, -2.8851e-01, -7.7100e-02, -1.1617e-01,\n",
       "       -4.0993e-01, -1.4077e-01,  8.5166e-02, -2.9172e-01, -2.1846e-01,\n",
       "       -2.1146e-01,  4.0339e-01,  5.1303e-01,  3.3206e-01, -7.5506e-01,\n",
       "       -2.3063e-01,  2.4395e-01,  6.3497e-01,  6.1357e-01,  2.1612e-01,\n",
       "        3.0025e-01, -1.8282e-02, -3.0835e-01, -5.3400e-01,  2.3726e-01,\n",
       "        5.3665e-01, -1.4440e-01,  5.7193e-02, -1.1069e-02,  2.1956e-01,\n",
       "        3.8005e-01, -5.1060e-01,  3.9468e-02,  3.8251e-01, -6.0032e-02,\n",
       "       -1.1185e-01,  6.3657e-01,  4.9118e-03,  1.2298e-02,  1.0970e-02,\n",
       "       -4.2795e-01,  3.1529e-01, -3.9837e-01,  2.0835e-02, -2.6244e-01],\n",
       "      dtype=float32)"
      ]
     },
     "execution_count": 100,
     "metadata": {},
     "output_type": "execute_result"
    }
   ],
   "source": [
    "print(\"El embedding para great es\",len(model['great']),\"dimensional\")\n",
    "\n",
    "model['david']"
   ]
  },
  {
   "attachments": {},
   "cell_type": "markdown",
   "metadata": {},
   "source": [
    "Para encontrar el vector de una reseña completa, obtenemos el vector de cada palabra de la reseña por separado y tomamos un promedio simple."
   ]
  },
  {
   "attachments": {},
   "cell_type": "markdown",
   "metadata": {},
   "source": [
    "### Ejercicio 8\n",
    "\n",
    "Calcule el vector para cada revisión individual en el conjunto de datos."
   ]
  },
  {
   "cell_type": "code",
   "execution_count": 102,
   "metadata": {},
   "outputs": [
    {
     "data": {
      "text/plain": [
       "0       i have bought several of the vitality canned d...\n",
       "1       product arrived labeled as jumbo salted peanut...\n",
       "2       this is a confection that has been around a fe...\n",
       "3       if you are looking for the secret ingredient i...\n",
       "4       great taffy at a great price   there was a wid...\n",
       "                              ...                        \n",
       "9995    we switched from the advance similac to the or...\n",
       "9996    like the bad reviews say  the organic formula ...\n",
       "9997    i wanted to solely breastfeed but was unable t...\n",
       "9998    i love the fact that i can get this delieved t...\n",
       "9999    we have a 7 week old  he had gas and constipat...\n",
       "Name: reviews_text_new, Length: 9138, dtype: object"
      ]
     },
     "execution_count": 102,
     "metadata": {},
     "output_type": "execute_result"
    }
   ],
   "source": [
    "amazon_reviews.reviews_text_new"
   ]
  },
  {
   "cell_type": "code",
   "execution_count": 105,
   "metadata": {},
   "outputs": [
    {
     "data": {
      "text/plain": [
       "array([0., 0., 0., 0., 0., 0., 0., 0., 0., 0., 0., 0., 0., 0., 0., 0., 0.,\n",
       "       0., 0., 0., 0., 0., 0., 0., 0., 0., 0., 0., 0., 0., 0., 0., 0., 0.,\n",
       "       0., 0., 0., 0., 0., 0., 0., 0., 0., 0., 0., 0., 0., 0., 0., 0., 0.,\n",
       "       0., 0., 0., 0., 0., 0., 0., 0., 0., 0., 0., 0., 0., 0., 0., 0., 0.,\n",
       "       0., 0., 0., 0., 0., 0., 0., 0., 0., 0., 0., 0., 0., 0., 0., 0., 0.,\n",
       "       0., 0., 0., 0., 0., 0., 0., 0., 0., 0., 0., 0., 0., 0., 0., 0., 0.,\n",
       "       0., 0., 0., 0., 0., 0., 0., 0., 0., 0., 0., 0., 0., 0., 0., 0., 0.,\n",
       "       0., 0., 0., 0., 0., 0., 0., 0., 0., 0., 0., 0., 0., 0., 0., 0., 0.,\n",
       "       0., 0., 0., 0., 0., 0., 0., 0., 0., 0., 0., 0., 0., 0., 0., 0., 0.,\n",
       "       0., 0., 0., 0., 0., 0., 0., 0., 0., 0., 0., 0., 0., 0., 0., 0., 0.,\n",
       "       0., 0., 0., 0., 0., 0., 0., 0., 0., 0., 0., 0., 0., 0., 0., 0., 0.,\n",
       "       0., 0., 0., 0., 0., 0., 0., 0., 0., 0., 0., 0., 0.])"
      ]
     },
     "execution_count": 105,
     "metadata": {},
     "output_type": "execute_result"
    }
   ],
   "source": [
    "np.zeros(model.vector_size)"
   ]
  },
  {
   "cell_type": "code",
   "execution_count": 106,
   "metadata": {},
   "outputs": [],
   "source": [
    "review_embeddings = []\n",
    "for each_review in amazon_reviews.reviews_text_new:\n",
    "    ##Promedio\n",
    "    Review_average = np.zeros(model.vector_size)\n",
    "    count_val = 0\n",
    "    for each_word in word_tokenize(each_review):\n",
    "        if(each_word.lower() in model):\n",
    "            Review_average =+ model[each_word.lower()]\n",
    "            count_val += 1    \n",
    "    review_embeddings.append(list(Review_average/count_val))"
   ]
  },
  {
   "cell_type": "code",
   "execution_count": 109,
   "metadata": {},
   "outputs": [
    {
     "name": "stdout",
     "output_type": "stream",
     "text": [
      "[0.020264681, -0.0014588723, 0.006446383, 0.0059651067, 0.012804256, -0.001793702, 0.0047687236, 0.006757234, 0.0073642554, 0.008295319, -0.0073606386, -0.010849999, -0.024965959, -0.00843617, 0.009582127, 0.001844617, -9.415958e-07, -0.002610851, 0.0032791488, -0.0113672335, 0.010112553, -0.0009465319, -0.013394893, -0.011601915, -0.008064681, 0.03538085, -0.005099149, 0.00911, -0.0022197873, 0.004251702, 0.011184043, -0.0022957446, -0.006765106, 0.0072736167, 0.0012022128, -0.0080514895, -0.008111915, -0.0043759574, 0.00761149, -0.0058008507, 0.003227021, -0.002325319, -0.0008010213, -0.00138, 0.0010876383, 0.002853617, 0.014822341, -0.013718936, -0.008239361, -0.005468298, -0.004943617, -0.0016459788, 2.35383e-05, -0.00035765956, 0.00861617, -0.0011029575, -0.007791276, 0.009506383, -0.011707022, -0.014720851, -0.004613617, -0.008581915, -0.0035265957, -0.0026121277, -0.00046240428, 0.012731702, -0.0027861702, -0.014568723, -0.0036195745, -0.0067934045, -0.011340852, -0.009186809, -0.0066040424, 0.006143617, 0.008786171, -0.0054706386, 0.0043772343, 0.0012549149, 0.0020682553, 0.0032168084, 0.01545, -0.0020842128, -0.0016193404, 0.012322128, 0.009344255, 0.0024568085, 0.0028825533, -5.943617e-05, -0.005637234, -0.0066223405, -0.0077765957, 0.011374042, -0.0014819149, 0.013254681, 0.0024597873, -0.006542128, -0.00015203404, -0.009134469, 0.009317872, -0.0047206385, -0.007857447, -0.0022302128, -0.008957872, -0.0010890638, 0.0053774468, -0.0032563831, 0.0046814894, 0.00036759576, -0.0021241703, 0.00069748936, 0.0036631913, 0.0035674467, 0.012391277, 0.015098724, 0.00013116596, 0.004251702, -0.0036702128, 0.0030472341, -0.0035059575, 0.0051095746, 0.00014097233, -0.004718511, 0.005700213, -0.008067447, -0.01032149, -0.0076085106, 0.002017234, -0.0064168083, 0.015925532, -0.01509, 0.0039521274, 0.003540851, -0.010494042, 0.005380638, 0.00083638297, 0.006398085, 0.0021071702, 0.0025146808, 0.00043531915, -0.003783617, 0.0073902127, 0.008933191, 0.0038570212, -0.004222766, 0.008056384, 0.006375106, 0.001641234, -0.0046302127, 0.006567447, -0.0047087236, -0.0040770215, 0.004562128, -0.10999362, 0.0022429787, -0.0048568086, -0.006333617, 0.015479148, 0.0021840425, -0.0043393616, 0.0069731916, -0.0012131702, 0.009361702, -0.015768299, 0.00783617, 0.007464893, -0.0061731916, -0.0064095748, 0.0034251064, 0.0131, 4.964468e-05, 0.008704469, 0.0014420426, 0.001607851, -0.00017548085, -0.0023521276, 0.012336595, 0.0015602766, -0.012494894, 0.00721, -0.009746596, 0.0062910635, -0.009134893, -0.010310639, -0.004922766, 0.006381915, 0.016961064, -0.0044265958, 0.00025197872, 0.0056487233, 0.007839788, -0.003571064, -0.0014557022, 0.000690383, -0.002066681, -0.003892979, 0.0022551063, -0.007417872, 0.0037589362, -0.003293617, -0.003520851]\n"
     ]
    }
   ],
   "source": [
    "print(review_embeddings[0])"
   ]
  },
  {
   "attachments": {},
   "cell_type": "markdown",
   "metadata": {},
   "source": [
    "Convirtamos la lista de representaciones vectoriales para cada revisión en un DataFrame y dividámoslo en conjuntos de entrenamiento y prueba:"
   ]
  },
  {
   "cell_type": "code",
   "execution_count": 110,
   "metadata": {},
   "outputs": [],
   "source": [
    "embedding_data = pd.DataFrame(review_embeddings)\n",
    "embedding_data = embedding_data.fillna(0)"
   ]
  },
  {
   "cell_type": "code",
   "execution_count": 111,
   "metadata": {},
   "outputs": [
    {
     "data": {
      "text/html": [
       "<div>\n",
       "<style scoped>\n",
       "    .dataframe tbody tr th:only-of-type {\n",
       "        vertical-align: middle;\n",
       "    }\n",
       "\n",
       "    .dataframe tbody tr th {\n",
       "        vertical-align: top;\n",
       "    }\n",
       "\n",
       "    .dataframe thead th {\n",
       "        text-align: right;\n",
       "    }\n",
       "</style>\n",
       "<table border=\"1\" class=\"dataframe\">\n",
       "  <thead>\n",
       "    <tr style=\"text-align: right;\">\n",
       "      <th></th>\n",
       "      <th>0</th>\n",
       "      <th>1</th>\n",
       "      <th>2</th>\n",
       "      <th>3</th>\n",
       "      <th>4</th>\n",
       "      <th>5</th>\n",
       "      <th>6</th>\n",
       "      <th>7</th>\n",
       "      <th>8</th>\n",
       "      <th>9</th>\n",
       "      <th>...</th>\n",
       "      <th>190</th>\n",
       "      <th>191</th>\n",
       "      <th>192</th>\n",
       "      <th>193</th>\n",
       "      <th>194</th>\n",
       "      <th>195</th>\n",
       "      <th>196</th>\n",
       "      <th>197</th>\n",
       "      <th>198</th>\n",
       "      <th>199</th>\n",
       "    </tr>\n",
       "  </thead>\n",
       "  <tbody>\n",
       "    <tr>\n",
       "      <th>0</th>\n",
       "      <td>0.020265</td>\n",
       "      <td>-0.001459</td>\n",
       "      <td>0.006446</td>\n",
       "      <td>0.005965</td>\n",
       "      <td>0.012804</td>\n",
       "      <td>-0.001794</td>\n",
       "      <td>0.004769</td>\n",
       "      <td>0.006757</td>\n",
       "      <td>0.007364</td>\n",
       "      <td>0.008295</td>\n",
       "      <td>...</td>\n",
       "      <td>-0.003571</td>\n",
       "      <td>-0.001456</td>\n",
       "      <td>0.000690</td>\n",
       "      <td>-0.002067</td>\n",
       "      <td>-0.003893</td>\n",
       "      <td>0.002255</td>\n",
       "      <td>-0.007418</td>\n",
       "      <td>0.003759</td>\n",
       "      <td>-0.003294</td>\n",
       "      <td>-0.003521</td>\n",
       "    </tr>\n",
       "    <tr>\n",
       "      <th>1</th>\n",
       "      <td>-0.006934</td>\n",
       "      <td>0.010974</td>\n",
       "      <td>-0.007448</td>\n",
       "      <td>-0.009642</td>\n",
       "      <td>0.000709</td>\n",
       "      <td>0.007844</td>\n",
       "      <td>-0.016698</td>\n",
       "      <td>-0.008017</td>\n",
       "      <td>0.005599</td>\n",
       "      <td>-0.001879</td>\n",
       "      <td>...</td>\n",
       "      <td>0.008169</td>\n",
       "      <td>-0.009775</td>\n",
       "      <td>-0.018887</td>\n",
       "      <td>0.002282</td>\n",
       "      <td>0.006575</td>\n",
       "      <td>0.005485</td>\n",
       "      <td>0.005419</td>\n",
       "      <td>0.027662</td>\n",
       "      <td>-0.000816</td>\n",
       "      <td>0.001488</td>\n",
       "    </tr>\n",
       "    <tr>\n",
       "      <th>2</th>\n",
       "      <td>-0.001874</td>\n",
       "      <td>-0.006202</td>\n",
       "      <td>-0.000801</td>\n",
       "      <td>0.006205</td>\n",
       "      <td>-0.002987</td>\n",
       "      <td>0.003152</td>\n",
       "      <td>0.009835</td>\n",
       "      <td>0.001136</td>\n",
       "      <td>0.000545</td>\n",
       "      <td>-0.005018</td>\n",
       "      <td>...</td>\n",
       "      <td>0.005494</td>\n",
       "      <td>-0.002714</td>\n",
       "      <td>0.004914</td>\n",
       "      <td>-0.001100</td>\n",
       "      <td>0.001218</td>\n",
       "      <td>0.001272</td>\n",
       "      <td>0.003792</td>\n",
       "      <td>-0.003057</td>\n",
       "      <td>0.002701</td>\n",
       "      <td>-0.008601</td>\n",
       "    </tr>\n",
       "    <tr>\n",
       "      <th>3</th>\n",
       "      <td>-0.029537</td>\n",
       "      <td>-0.021714</td>\n",
       "      <td>-0.003155</td>\n",
       "      <td>-0.002398</td>\n",
       "      <td>0.005568</td>\n",
       "      <td>-0.008651</td>\n",
       "      <td>0.002246</td>\n",
       "      <td>0.001636</td>\n",
       "      <td>-0.007645</td>\n",
       "      <td>-0.016403</td>\n",
       "      <td>...</td>\n",
       "      <td>-0.023752</td>\n",
       "      <td>0.006511</td>\n",
       "      <td>0.016450</td>\n",
       "      <td>-0.010843</td>\n",
       "      <td>0.006128</td>\n",
       "      <td>0.014590</td>\n",
       "      <td>0.006528</td>\n",
       "      <td>-0.004071</td>\n",
       "      <td>0.007111</td>\n",
       "      <td>-0.001967</td>\n",
       "    </tr>\n",
       "    <tr>\n",
       "      <th>4</th>\n",
       "      <td>-0.011517</td>\n",
       "      <td>-0.002077</td>\n",
       "      <td>-0.008900</td>\n",
       "      <td>0.004536</td>\n",
       "      <td>-0.013394</td>\n",
       "      <td>-0.014427</td>\n",
       "      <td>0.010721</td>\n",
       "      <td>-0.009569</td>\n",
       "      <td>-0.005949</td>\n",
       "      <td>0.003639</td>\n",
       "      <td>...</td>\n",
       "      <td>-0.012828</td>\n",
       "      <td>-0.006852</td>\n",
       "      <td>0.004933</td>\n",
       "      <td>-0.007529</td>\n",
       "      <td>0.003032</td>\n",
       "      <td>0.013365</td>\n",
       "      <td>-0.007860</td>\n",
       "      <td>0.026389</td>\n",
       "      <td>0.014015</td>\n",
       "      <td>0.024893</td>\n",
       "    </tr>\n",
       "  </tbody>\n",
       "</table>\n",
       "<p>5 rows × 200 columns</p>\n",
       "</div>"
      ],
      "text/plain": [
       "        0         1         2         3         4         5         6    \\\n",
       "0  0.020265 -0.001459  0.006446  0.005965  0.012804 -0.001794  0.004769   \n",
       "1 -0.006934  0.010974 -0.007448 -0.009642  0.000709  0.007844 -0.016698   \n",
       "2 -0.001874 -0.006202 -0.000801  0.006205 -0.002987  0.003152  0.009835   \n",
       "3 -0.029537 -0.021714 -0.003155 -0.002398  0.005568 -0.008651  0.002246   \n",
       "4 -0.011517 -0.002077 -0.008900  0.004536 -0.013394 -0.014427  0.010721   \n",
       "\n",
       "        7         8         9    ...       190       191       192       193  \\\n",
       "0  0.006757  0.007364  0.008295  ... -0.003571 -0.001456  0.000690 -0.002067   \n",
       "1 -0.008017  0.005599 -0.001879  ...  0.008169 -0.009775 -0.018887  0.002282   \n",
       "2  0.001136  0.000545 -0.005018  ...  0.005494 -0.002714  0.004914 -0.001100   \n",
       "3  0.001636 -0.007645 -0.016403  ... -0.023752  0.006511  0.016450 -0.010843   \n",
       "4 -0.009569 -0.005949  0.003639  ... -0.012828 -0.006852  0.004933 -0.007529   \n",
       "\n",
       "        194       195       196       197       198       199  \n",
       "0 -0.003893  0.002255 -0.007418  0.003759 -0.003294 -0.003521  \n",
       "1  0.006575  0.005485  0.005419  0.027662 -0.000816  0.001488  \n",
       "2  0.001218  0.001272  0.003792 -0.003057  0.002701 -0.008601  \n",
       "3  0.006128  0.014590  0.006528 -0.004071  0.007111 -0.001967  \n",
       "4  0.003032  0.013365 -0.007860  0.026389  0.014015  0.024893  \n",
       "\n",
       "[5 rows x 200 columns]"
      ]
     },
     "execution_count": 111,
     "metadata": {},
     "output_type": "execute_result"
    }
   ],
   "source": [
    "embedding_data.head()"
   ]
  },
  {
   "cell_type": "code",
   "execution_count": 112,
   "metadata": {},
   "outputs": [],
   "source": [
    "X_train_embed, X_test_embed, y_train_embed, y_test_embed =  \\\n",
    "                            train_test_split(embedding_data,amazon_reviews.Sentiment_rating,test_size = 0.2,random_state = 0)"
   ]
  },
  {
   "attachments": {},
   "cell_type": "markdown",
   "metadata": {},
   "source": [
    "Apliquemos ahora la regresión logística a nuestra representación de incrustaciones de palabras:"
   ]
  },
  {
   "cell_type": "code",
   "execution_count": 113,
   "metadata": {},
   "outputs": [
    {
     "name": "stdout",
     "output_type": "stream",
     "text": [
      "F1 score:  0.9177027827116636\n",
      "Accuracy:  84.79212253829321\n"
     ]
    }
   ],
   "source": [
    "lr_model_all.fit(X_train_embed,y_train_embed)\n",
    "test_pred_lr_prob = lr_model_all.predict_proba(X_test_embed)\n",
    "test_pred_lr_all = lr_model_all.predict(X_test_embed)\n",
    "\n",
    "print(\"F1 score: \",f1_score(y_test_embed,test_pred_lr_all))\n",
    "print(\"Accuracy: \", accuracy_score(y_test_embed,test_pred_lr_all)* 100)"
   ]
  },
  {
   "attachments": {},
   "cell_type": "markdown",
   "metadata": {},
   "source": [
    "Bueno los resultados son similares al de otros modelos, en contextos con más información es posible alcanzar un mejor performance usando los embeddings en comparación con la TF-IDF y el BoW"
   ]
  },
  {
   "attachments": {},
   "cell_type": "markdown",
   "metadata": {},
   "source": [
    "## Conclusiones"
   ]
  },
  {
   "attachments": {},
   "cell_type": "markdown",
   "metadata": {},
   "source": [
    "En este caso, limpiamos y destacamos un conjunto de datos de reseñas de Amazon y construimos algunos modelos de clasificación en estas características para predecir el sentimiento. Vimos que BoW y TF-IDF brindaban características interpretables, mientras que las incrustaciones de palabras algo similar. Al aumentar el conjunto de n-gramas que usamos de 1.gram a 4-grams, pudimos obtener la precisión de nuestro modelo de regresión logística hasta en un 92 %."
   ]
  },
  {
   "attachments": {},
   "cell_type": "markdown",
   "metadata": {},
   "source": [
    "## Para recordar"
   ]
  },
  {
   "attachments": {},
   "cell_type": "markdown",
   "metadata": {},
   "source": [
    "La construcción de modelos de aprendizaje automático en texto es una disciplina muy complicada. Algunas cosas importantes a tener en cuenta son las siguientes:\n",
    "\n",
    "1. Aunque existen diferentes tipos de preprocesamiento en los datos textuales, no todo tiene que aplicarse en cada caso. Por ejemplo, cuando se trata de mensajes de texto, los caracteres especiales pueden representar información importante y no es necesario eliminarlos. Además, las mayúsculas pueden significar que alguien está enojado y representa un grito, por lo que es posible que tampoco sea necesario normalizar las mayúsculas.\n",
    "\n",
    "2. El ajuste de hiperparámetros en modelos de aprendizaje automático es un paso muy importante. No podemos seguir entrenando un modelo con parámetros predeterminados. Se deben probar diferentes conjuntos de parámetros para ver qué contribuye al mejor modelo.\n",
    "\n",
    "3. Cada tarea de clasificación de NLP es diferente, pero el proceso a seguir es similar al que hicimos en este caso: Data wrangling -> crear características a partir del texto -> entrenar modelos ML."
   ]
  }
 ],
 "metadata": {
  "kernelspec": {
   "display_name": "Python 3 (ipykernel)",
   "language": "python",
   "name": "python3"
  },
  "language_info": {
   "codemirror_mode": {
    "name": "ipython",
    "version": 3
   },
   "file_extension": ".py",
   "mimetype": "text/x-python",
   "name": "python",
   "nbconvert_exporter": "python",
   "pygments_lexer": "ipython3",
   "version": "3.9.1"
  }
 },
 "nbformat": 4,
 "nbformat_minor": 2
}
